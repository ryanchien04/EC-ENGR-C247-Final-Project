{
  "cells": [
    {
      "cell_type": "markdown",
      "metadata": {
        "id": "Ej4inSejhUjZ"
      },
      "source": [
        "## Setting up notebook"
      ]
    },
    {
      "cell_type": "code",
      "execution_count": null,
      "metadata": {
        "colab": {
          "base_uri": "https://localhost:8080/"
        },
        "id": "O6A8j7pB8eaW",
        "outputId": "24bd0f7a-079f-48b6-eaac-7d4e418593d1"
      },
      "outputs": [
        {
          "output_type": "stream",
          "name": "stdout",
          "text": [
            "Drive already mounted at /content/drive; to attempt to forcibly remount, call drive.mount(\"/content/drive\", force_remount=True).\n"
          ]
        }
      ],
      "source": [
        "from google.colab import drive\n",
        "drive.mount('/content/drive')"
      ]
    },
    {
      "cell_type": "code",
      "execution_count": null,
      "metadata": {
        "id": "S5Nehpg99j3N"
      },
      "outputs": [],
      "source": [
        "FOLDERNAME = 'ECE C247 Final Project'\n",
        "assert FOLDERNAME is not None, \"[!] Enter the foldername.\"\n",
        "\n",
        "import sys\n",
        "sys.path.append('/content/drive/My Drive/{}'.format(FOLDERNAME))"
      ]
    },
    {
      "cell_type": "code",
      "execution_count": null,
      "metadata": {
        "id": "wnZVQAFxCDKP"
      },
      "outputs": [],
      "source": [
        "import torch\n",
        "import torch.nn as nn\n",
        "from torch.autograd import Variable\n",
        "import torchvision.transforms as transforms\n",
        "import torchvision.datasets as dsets\n",
        "from sklearn.model_selection import train_test_split"
      ]
    },
    {
      "cell_type": "code",
      "execution_count": null,
      "metadata": {
        "id": "TmgmQSz-9_6K"
      },
      "outputs": [],
      "source": [
        "device = torch.device('cuda:0')"
      ]
    },
    {
      "cell_type": "markdown",
      "metadata": {
        "id": "GNkP1oh2B7js"
      },
      "source": [
        "## Downloading the dataset"
      ]
    },
    {
      "cell_type": "code",
      "execution_count": null,
      "metadata": {
        "colab": {
          "base_uri": "https://localhost:8080/"
        },
        "id": "KyGdFzmR9tvS",
        "outputId": "efa360e5-3eb6-4859-9da1-1ea61aefbada"
      },
      "outputs": [
        {
          "output_type": "stream",
          "name": "stdout",
          "text": [
            "/content/drive/MyDrive/ECE C247 Final Project/dataset\n"
          ]
        }
      ],
      "source": [
        "%cd '/content/drive/MyDrive/ECE C247 Final Project/dataset'\n",
        "import numpy as np\n",
        "import pandas as pd\n",
        "X_test = np.load(\"X_test.npy\")\n",
        "y_test = np.load(\"y_test.npy\")\n",
        "person_train_valid = np.load(\"person_train_valid.npy\")\n",
        "X_train_valid = np.load(\"X_train_valid.npy\")\n",
        "y_train_valid = np.load(\"y_train_valid.npy\")\n",
        "person_test = np.load(\"person_test.npy\")\n",
        "\n",
        "y_train_valid -= 769\n",
        "y_test -= 769"
      ]
    },
    {
      "cell_type": "code",
      "execution_count": null,
      "metadata": {
        "id": "oyTFZUDm_3rb",
        "colab": {
          "base_uri": "https://localhost:8080/"
        },
        "outputId": "fd4990de-9142-4ee8-812c-5e3bbbbe0930"
      },
      "outputs": [
        {
          "output_type": "stream",
          "name": "stdout",
          "text": [
            "Training/Valid data shape: (2115, 22, 1000)\n",
            "Test data shape: (443, 22, 1000)\n",
            "Training/Valid target shape: (2115,)\n",
            "Test target shape: (443,)\n",
            "Person train/valid shape: (2115, 1)\n",
            "Person test shape: (443, 1)\n"
          ]
        }
      ],
      "source": [
        "print(\"Training/Valid data shape: {}\".format(X_train_valid.shape))\n",
        "print(\"Test data shape: {}\".format(X_test.shape))\n",
        "print(\"Training/Valid target shape: {}\".format(y_train_valid.shape))\n",
        "print(\"Test target shape: {}\".format(y_test.shape))\n",
        "print(\"Person train/valid shape: {}\".format(person_train_valid.shape))\n",
        "print(\"Person test shape: {}\".format(person_test.shape))"
      ]
    },
    {
      "cell_type": "code",
      "source": [
        "s1_X_train_valid = X_train_valid[np.where(person_train_valid == 1)[0]]\n",
        "s1_y_train_valid = y_train_valid[np.where(person_train_valid == 1)[0]]\n",
        "s1_X_test = X_test[np.where(person_test == 1)[0]]\n",
        "s1_y_test = y_test[np.where(person_test == 1)[0]]\n",
        "\n",
        "print(s1_X_train_valid.shape, s1_y_train_valid.shape, s1_X_test.shape, s1_y_test.shape)"
      ],
      "metadata": {
        "colab": {
          "base_uri": "https://localhost:8080/"
        },
        "id": "XeM2Ib_pN3Q5",
        "outputId": "05135264-3f18-4587-ab4f-2e91b2ca8877"
      },
      "execution_count": null,
      "outputs": [
        {
          "output_type": "stream",
          "name": "stdout",
          "text": [
            "(236, 22, 1000) (236,) (50, 22, 1000) (50,)\n"
          ]
        }
      ]
    },
    {
      "cell_type": "code",
      "execution_count": null,
      "metadata": {
        "id": "sw3kXVPhQ923"
      },
      "outputs": [],
      "source": [
        "X_train, X_val, y_train, y_val = train_test_split(X_train_valid, y_train_valid, test_size=0.2, random_state=10)\n",
        "s1_X_train, s1_X_val, s1_y_train, s1_y_val = train_test_split(s1_X_train_valid, s1_y_train_valid, test_size=0.2, random_state=10)"
      ]
    },
    {
      "cell_type": "code",
      "source": [
        "def data_prep(X,y,sub_sample,average,noise):\n",
        "    \n",
        "    total_X = None\n",
        "    total_y = None\n",
        "    \n",
        "    # Trimming the data (sample,22,1000) -> (sample,22,500)\n",
        "    X = X[:,:,0:500]\n",
        "    print('Shape of X after trimming:',X.shape)\n",
        "    \n",
        "    # Maxpooling the data (sample,22,1000) -> (sample,22,500/sub_sample)\n",
        "    X_max = np.max(X.reshape(X.shape[0], X.shape[1], -1, sub_sample), axis=3)\n",
        "    \n",
        "    \n",
        "    total_X = X_max\n",
        "    total_y = y\n",
        "    print('Shape of X after maxpooling:',total_X.shape)\n",
        "    \n",
        "    # Averaging + noise \n",
        "    X_average = np.mean(X.reshape(X.shape[0], X.shape[1], -1, average),axis=3)\n",
        "    X_average = X_average + np.random.normal(0.0, 0.5, X_average.shape)\n",
        "    \n",
        "    total_X = np.vstack((total_X, X_average))\n",
        "    total_y = np.hstack((total_y, y))\n",
        "    print('Shape of X after averaging+noise and concatenating:',total_X.shape)\n",
        "    \n",
        "    # Subsampling\n",
        "    \n",
        "    for i in range(sub_sample):\n",
        "        \n",
        "        X_subsample = X[:, :, i::sub_sample] + \\\n",
        "                            (np.random.normal(0.0, 0.5, X[:, :,i::sub_sample].shape) if noise else 0.0)\n",
        "            \n",
        "        total_X = np.vstack((total_X, X_subsample))\n",
        "        total_y = np.hstack((total_y, y))\n",
        "        \n",
        "    \n",
        "    print('Shape of X after subsampling and concatenating:',total_X.shape)\n",
        "    return total_X,total_y"
      ],
      "metadata": {
        "id": "QQuhN-vwv1jx"
      },
      "execution_count": null,
      "outputs": []
    },
    {
      "cell_type": "code",
      "source": [
        "X_train,y_train = data_prep(X_train,y_train,2,2,True)\n",
        "X_val,y_val = data_prep(X_val,y_val,2,2,True)\n",
        "X_test,y_test = data_prep(X_test,y_test,2,2,True)\n",
        "\n",
        "s1_X_train, s1_y_train = data_prep(s1_X_train, s1_y_train,2,2,True)\n",
        "s1_X_val, s1_y_val = data_prep(s1_X_val, s1_y_val,2,2,True)\n",
        "s1_X_test, s1_y_test = data_prep(s1_X_test, s1_y_test,2,2,True)"
      ],
      "metadata": {
        "id": "YmA2PCR-v7aH",
        "colab": {
          "base_uri": "https://localhost:8080/"
        },
        "outputId": "05c6c9b9-c44a-43f0-d111-32dacc77f9ea"
      },
      "execution_count": null,
      "outputs": [
        {
          "output_type": "stream",
          "name": "stdout",
          "text": [
            "Shape of X after trimming: (1692, 22, 500)\n",
            "Shape of X after maxpooling: (1692, 22, 250)\n",
            "Shape of X after averaging+noise and concatenating: (3384, 22, 250)\n",
            "Shape of X after subsampling and concatenating: (6768, 22, 250)\n",
            "Shape of X after trimming: (423, 22, 500)\n",
            "Shape of X after maxpooling: (423, 22, 250)\n",
            "Shape of X after averaging+noise and concatenating: (846, 22, 250)\n",
            "Shape of X after subsampling and concatenating: (1692, 22, 250)\n",
            "Shape of X after trimming: (443, 22, 500)\n",
            "Shape of X after maxpooling: (443, 22, 250)\n",
            "Shape of X after averaging+noise and concatenating: (886, 22, 250)\n",
            "Shape of X after subsampling and concatenating: (1772, 22, 250)\n",
            "Shape of X after trimming: (188, 22, 500)\n",
            "Shape of X after maxpooling: (188, 22, 250)\n",
            "Shape of X after averaging+noise and concatenating: (376, 22, 250)\n",
            "Shape of X after subsampling and concatenating: (752, 22, 250)\n",
            "Shape of X after trimming: (48, 22, 500)\n",
            "Shape of X after maxpooling: (48, 22, 250)\n",
            "Shape of X after averaging+noise and concatenating: (96, 22, 250)\n",
            "Shape of X after subsampling and concatenating: (192, 22, 250)\n",
            "Shape of X after trimming: (50, 22, 500)\n",
            "Shape of X after maxpooling: (50, 22, 250)\n",
            "Shape of X after averaging+noise and concatenating: (100, 22, 250)\n",
            "Shape of X after subsampling and concatenating: (200, 22, 250)\n"
          ]
        }
      ]
    },
    {
      "cell_type": "code",
      "execution_count": null,
      "metadata": {
        "id": "m7ptGBcGbh15"
      },
      "outputs": [],
      "source": [
        "X_train = np.swapaxes(X_train, 1,2)\n",
        "X_val = np.swapaxes(X_val, 1,2)\n",
        "X_test = np.swapaxes(X_test, 1,2)\n",
        "\n",
        "s1_X_train = np.swapaxes(s1_X_train, 1,2)\n",
        "s1_X_val = np.swapaxes(s1_X_val, 1,2)\n",
        "s1_X_test = np.swapaxes(s1_X_test, 1,2)"
      ]
    },
    {
      "cell_type": "code",
      "execution_count": null,
      "metadata": {
        "id": "KCweQlUCCGpd",
        "colab": {
          "base_uri": "https://localhost:8080/"
        },
        "outputId": "76dad169-02c9-45fe-95a5-a1aeb98ed915"
      },
      "outputs": [
        {
          "output_type": "stream",
          "name": "stdout",
          "text": [
            "X train shape: torch.Size([6768, 1, 250, 22]), y train shape: torch.Size([6768])\n",
            "X validation shape: torch.Size([1692, 1, 250, 22]), y validation shape: torch.Size([1692])\n",
            "X test shape: torch.Size([1772, 1, 250, 22]), y test shape: torch.Size([1772])\n"
          ]
        }
      ],
      "source": [
        "X_train = torch.from_numpy(X_train).float()\n",
        "X_train = X_train[:,None,:,:]\n",
        "s1_X_train = torch.from_numpy(s1_X_train).float()\n",
        "s1_X_train = s1_X_train[:,None,:,:]\n",
        "y_train = torch.from_numpy(y_train).long()\n",
        "s1_y_train = torch.from_numpy(s1_y_train).long()\n",
        "\n",
        "X_val = torch.from_numpy(X_val).float()\n",
        "X_val = X_val[:,None,:,:]\n",
        "s1_X_val = torch.from_numpy(s1_X_val).float()\n",
        "s1_X_val = s1_X_val[:,None,:,:]\n",
        "y_val = torch.from_numpy(y_val).long()\n",
        "s1_y_val = torch.from_numpy(s1_y_val).long()\n",
        "\n",
        "X_test = torch.from_numpy(X_test).float()\n",
        "X_test = X_test[:,None,:,:]\n",
        "s1_X_test = torch.from_numpy(s1_X_test).float()\n",
        "s1_X_test = s1_X_test[:,None,:,:]\n",
        "y_test = torch.from_numpy(y_test).long()\n",
        "s1_y_test = torch.from_numpy(s1_y_test).long()\n",
        "\n",
        "print('X train shape: {}, y train shape: {}'.format(X_train.shape, y_train.shape))\n",
        "print('X validation shape: {}, y validation shape: {}'.format(X_val.shape, y_val.shape))\n",
        "print('X test shape: {}, y test shape: {}'.format(X_test.shape, y_test.shape))"
      ]
    },
    {
      "cell_type": "code",
      "execution_count": null,
      "metadata": {
        "id": "-bRj1UO7VZDW"
      },
      "outputs": [],
      "source": [
        "train_dataset = torch.utils.data.TensorDataset(X_train, y_train)\n",
        "val_dataset = torch.utils.data.TensorDataset(X_val, y_val)\n",
        "test_dataset = torch.utils.data.TensorDataset(X_test, y_test)\n",
        "\n",
        "s1_train_dataset = torch.utils.data.TensorDataset(s1_X_train, s1_y_train)\n",
        "s1_val_dataset = torch.utils.data.TensorDataset(s1_X_val, s1_y_val)\n",
        "s1_test_dataset = torch.utils.data.TensorDataset(s1_X_test, s1_y_test)\n",
        "\n",
        "train_dataloader = torch.utils.data.DataLoader(train_dataset, batch_size=32, shuffle=True)\n",
        "val_dataloader = torch.utils.data.DataLoader(val_dataset, batch_size=32, shuffle=True)\n",
        "test_dataloader = torch.utils.data.DataLoader(test_dataset, batch_size=32, shuffle=True)\n",
        "\n",
        "s1_train_dataloader = torch.utils.data.DataLoader(s1_train_dataset, batch_size=32, shuffle=True)\n",
        "s1_val_dataloader = torch.utils.data.DataLoader(s1_val_dataset, batch_size=32, shuffle=True)\n",
        "s1_test_dataloader = torch.utils.data.DataLoader(s1_test_dataset, batch_size=32, shuffle=True)"
      ]
    },
    {
      "cell_type": "markdown",
      "metadata": {
        "id": "x29pCz-lhkNx"
      },
      "source": [
        "## CNN-LSTM Hybrid Architecture"
      ]
    },
    {
      "cell_type": "code",
      "execution_count": null,
      "metadata": {
        "id": "ZohGNAiehmGs"
      },
      "outputs": [],
      "source": [
        "class CNN_LSTM(nn.Module):\n",
        "  def __init__(self, num_classes, input_size, hidden_size, num_layers, seq_length, \n",
        "               channels=[1, 50, 100, 200, 32], kernel_size=[(1, 64), (22, 1), (1, 16), (1,1)]):\n",
        "    super(CNN_LSTM, self).__init__()\n",
        "\n",
        "    # Parameters for LSTM\n",
        "    self.num_classes = num_classes #number of classes\n",
        "    self.num_layers = num_layers #number of layers\n",
        "    self.input_size = input_size #input size\n",
        "    self.hidden_size = hidden_size #hidden state\n",
        "    self.seq_length = seq_length #sequence length\n",
        "\n",
        "    # Parameters for CNN\n",
        "    self.kernel_size = kernel_size # size of conv kernels\n",
        "    self.channels = channels #input and output channels for conv layers\n",
        "\n",
        "    # First CNN block\n",
        "    self.cnn1 = nn.Sequential(\n",
        "            nn.Conv2d(in_channels=self.channels[0], out_channels=self.channels[1], kernel_size=self.kernel_size[0], padding='same'),\n",
        "            nn.MaxPool2d(kernel_size=(3, 1)),\n",
        "            nn.BatchNorm2d(num_features=50, eps=1e-05, momentum=0.2, affine=True),\n",
        "            nn.ELU(),\n",
        "            nn.Dropout(p=0.5))\n",
        "    \n",
        "    # Second CNN block\n",
        "    self.cnn2 = nn.Sequential(\n",
        "            nn.Conv2d(in_channels=self.channels[1], out_channels=self.channels[2], kernel_size=self.kernel_size[1], padding='same'), \n",
        "            nn.MaxPool2d(kernel_size=(3, 1)),\n",
        "            nn.BatchNorm2d(num_features=100, eps=1e-05, momentum=0.2, affine=True),\n",
        "            nn.ELU(),\n",
        "            nn.Dropout(p=0.5))\n",
        "    \n",
        "    # Third CNN block\n",
        "    self.cnn3 = nn.Sequential(\n",
        "            nn.Conv2d(in_channels=self.channels[2], out_channels=self.channels[3], kernel_size=self.kernel_size[2], padding='same'), \n",
        "            nn.MaxPool2d(kernel_size=(3, 1)),\n",
        "            nn.BatchNorm2d(num_features=200, eps=1e-05, momentum=0.2, affine=True),\n",
        "            nn.ELU(),\n",
        "            nn.Dropout(p=0.5))\n",
        "    \n",
        "    # Fourth CNN block\n",
        "    self.cnn4 = nn.Sequential(\n",
        "            nn.Conv2d(in_channels=self.channels[3], out_channels=self.channels[4], kernel_size=self.kernel_size[3], padding='same'), \n",
        "            nn.MaxPool2d(kernel_size=(3, 1)),\n",
        "            nn.BatchNorm2d(num_features=32, eps=1e-05, momentum=0.2, affine=True),\n",
        "            nn.ELU(),\n",
        "            nn.Dropout(p=0.5))\n",
        "    \n",
        "    # FC - LSTM - FC block\n",
        "    self.flatten = nn.Flatten()\n",
        "    self.fc1 = nn.Linear(2112, 32)\n",
        "    self.lstm = nn.LSTM(input_size=32, hidden_size=hidden_size,\n",
        "                        num_layers=num_layers, batch_first=True, dropout=0.6) \n",
        "    self.fc2 = nn.Sequential(\n",
        "            nn.Linear(100, 64),\n",
        "            nn.BatchNorm1d(num_features=64, eps=1e-05, momentum=0.2, affine=True),\n",
        "            nn.Dropout(p=0.6),\n",
        "            nn.Linear(64, 32),\n",
        "            nn.BatchNorm1d(num_features=32, eps=1e-05, momentum=0.2, affine=True),\n",
        "            nn.ELU(),\n",
        "            nn.Linear(32, num_classes)\n",
        "        )\n",
        "    self.sm = nn.Softmax(dim=1)\n",
        "    \n",
        "  def forward(self, x):\n",
        "\n",
        "    #print(x.shape)\n",
        "    out = self.cnn1(x)\n",
        "    #print('After CNN-1: ', out.shape)\n",
        "    out = self.cnn2(out)\n",
        "    #print('After CNN-2: ', out.shape)\n",
        "    out = self.cnn3(out)\n",
        "    #print('After CNN-3: ', out.shape)\n",
        "    out = self.cnn4(out)\n",
        "    out = out.view(out.size(0), -1)\n",
        "    \n",
        "    # h_0 = Variable(torch.zeros(self.num_layers, out.size(0), self.hidden_size)).requires_grad_() \n",
        "    # c_0 = Variable(torch.zeros(self.num_layers, out.size(0), self.hidden_size)).requires_grad_()\n",
        "    #print('After CNN-4: ', out.shape)\n",
        "    # print(out[:, -1, :].shape)\n",
        "    out = self.fc1(out)\n",
        "    #print('After FC1: ', out.shape)\n",
        "    out, (hn, cn) = self.lstm(out) #, (h_0.detach().to(device), c_0.detach().to(device)))\n",
        "    #print('After LSTM: ', out.shape)\n",
        "    out = self.fc2(out)\n",
        "    #print('After FC2: ', out.shape)\n",
        "    #out = self.sm(out)\n",
        "    return out"
      ]
    },
    {
      "cell_type": "code",
      "execution_count": null,
      "metadata": {
        "id": "L6LvweXgEl2l"
      },
      "outputs": [],
      "source": [
        "# define hyperparameters\n",
        "learning_rate = 1e-3\n",
        "input_size = 22\n",
        "hidden_size = 100\n",
        "num_layers = 2\n",
        "num_classes = 4\n",
        "\n",
        "cnn_lstm1 = CNN_LSTM(num_classes=num_classes, input_size=input_size, hidden_size=hidden_size, \n",
        "             num_layers=num_layers, seq_length=X_train_valid.shape[2]).to(device)\n",
        "CELoss_criterion = torch.nn.CrossEntropyLoss()\n",
        "Adam_optimizer = torch.optim.Adam(cnn_lstm1.parameters(), lr=learning_rate)"
      ]
    },
    {
      "cell_type": "code",
      "source": [
        "#!pip install pytorch_model_summary\n",
        "from pytorch_model_summary import summary\n",
        "print(summary(cnn_lstm1, torch.zeros(1, 1, 250, 22).to(device), show_input=True))"
      ],
      "metadata": {
        "colab": {
          "base_uri": "https://localhost:8080/"
        },
        "id": "2nng-kB0pTPN",
        "outputId": "5242d26f-01a2-4ff1-b952-d43b8fd2e8e4"
      },
      "execution_count": null,
      "outputs": [
        {
          "output_type": "stream",
          "name": "stdout",
          "text": [
            "------------------------------------------------------------------------\n",
            "      Layer (type)          Input Shape         Param #     Tr. Param #\n",
            "========================================================================\n",
            "          Conv2d-1      [1, 1, 250, 22]           3,250           3,250\n",
            "       MaxPool2d-2     [1, 50, 250, 22]               0               0\n",
            "     BatchNorm2d-3      [1, 50, 83, 22]             100             100\n",
            "             ELU-4      [1, 50, 83, 22]               0               0\n",
            "         Dropout-5      [1, 50, 83, 22]               0               0\n",
            "          Conv2d-6      [1, 50, 83, 22]         110,100         110,100\n",
            "       MaxPool2d-7     [1, 100, 83, 22]               0               0\n",
            "     BatchNorm2d-8     [1, 100, 27, 22]             200             200\n",
            "             ELU-9     [1, 100, 27, 22]               0               0\n",
            "        Dropout-10     [1, 100, 27, 22]               0               0\n",
            "         Conv2d-11     [1, 100, 27, 22]         320,200         320,200\n",
            "      MaxPool2d-12     [1, 200, 27, 22]               0               0\n",
            "    BatchNorm2d-13      [1, 200, 9, 22]             400             400\n",
            "            ELU-14      [1, 200, 9, 22]               0               0\n",
            "        Dropout-15      [1, 200, 9, 22]               0               0\n",
            "         Conv2d-16      [1, 200, 9, 22]           6,432           6,432\n",
            "      MaxPool2d-17       [1, 32, 9, 22]               0               0\n",
            "    BatchNorm2d-18       [1, 32, 3, 22]              64              64\n",
            "            ELU-19       [1, 32, 3, 22]               0               0\n",
            "        Dropout-20       [1, 32, 3, 22]               0               0\n",
            "         Linear-21            [1, 2112]          67,616          67,616\n",
            "           LSTM-22              [1, 32]         134,400         134,400\n",
            "         Linear-23             [1, 100]           6,464           6,464\n",
            "    BatchNorm1d-24              [1, 64]             128             128\n",
            "        Dropout-25              [1, 64]               0               0\n",
            "         Linear-26              [1, 64]           2,080           2,080\n",
            "    BatchNorm1d-27              [1, 32]              64              64\n",
            "            ELU-28              [1, 32]               0               0\n",
            "         Linear-29              [1, 32]             132             132\n",
            "========================================================================\n",
            "Total params: 651,630\n",
            "Trainable params: 651,630\n",
            "Non-trainable params: 0\n",
            "------------------------------------------------------------------------\n"
          ]
        }
      ]
    },
    {
      "cell_type": "markdown",
      "metadata": {
        "id": "tPDuoNfweiDg"
      },
      "source": [
        "## Training CNN_LSTM Hybrid Model"
      ]
    },
    {
      "cell_type": "code",
      "execution_count": null,
      "metadata": {
        "id": "pgurr-_E_ecA"
      },
      "outputs": [],
      "source": [
        "def train(model, optimizer, criterion, dataloader, epoch, num_epochs):\n",
        "  \n",
        "  model.train()\n",
        "  \n",
        "  for i, (input, labels) in enumerate(dataloader):\n",
        "      input, labels = input.to(device), labels.to(device)\n",
        "      # Load input as a torch tensor with gradient accumulation abilities\n",
        "      # print(input.shape)\n",
        "      #input = input.view(-1, input.shape[2], input.shape[3]).requires_grad_()\n",
        "      # print(input.shape)\n",
        "\n",
        "      # Clear gradients w.r.t. parameters\n",
        "      optimizer.zero_grad()\n",
        "\n",
        "      # Forward pass to get output/logits\n",
        "      outputs = model(input)\n",
        "\n",
        "      # Calculate Loss: softmax --> cross entropy loss\n",
        "      loss = criterion(outputs, labels)\n",
        "      \n",
        "      # Getting gradients w.r.t. parameters\n",
        "      loss.backward()\n",
        "\n",
        "      # Updating parameters\n",
        "      optimizer.step()\n",
        "\n",
        "      # Print Training Loss\n",
        "      if i%100 == 0:\n",
        "        print('Epoch {}/{} \\tTraining Loss: {}'.format(epoch+1, num_epochs, loss.data))\n",
        "\n",
        "  return model"
      ]
    },
    {
      "cell_type": "code",
      "execution_count": null,
      "metadata": {
        "id": "aGM0PrRjPJPz"
      },
      "outputs": [],
      "source": [
        "def predict(model, dataloader, mode):\n",
        "  \n",
        "  model.eval()\n",
        "\n",
        "  correct = 0\n",
        "  total = 0\n",
        "  # Iterate through test dataset\n",
        "  for input, labels in dataloader:\n",
        "      input, labels = input.to(device), labels.to(device)\n",
        "      # Resize images\n",
        "      #input = input.view(-1, input.shape[2], input.shape[3])\n",
        "\n",
        "      # Forward pass only to get logits/output\n",
        "      outputs = model(input)\n",
        "\n",
        "      # Get predictions from the maximum value\n",
        "      _, predicted = torch.max(outputs.data, 1)\n",
        "\n",
        "      # Total number of labels\n",
        "      total += labels.size(0)\n",
        "\n",
        "      # Total correct predictions\n",
        "      correct += (predicted == labels).sum()\n",
        "\n",
        "  accuracy = 100 * correct / total\n",
        "  print('{} Accuracy: {}%'.format(mode, accuracy))\n",
        "  \n",
        "  return accuracy, model"
      ]
    },
    {
      "cell_type": "code",
      "execution_count": null,
      "metadata": {
        "id": "6e94Gt6vQbMg"
      },
      "outputs": [],
      "source": [
        "def train_and_predict(model, optimizer, criterion, num_epochs, train_dataloader, val_dataloader):\n",
        "\n",
        "  train_accs = []\n",
        "  val_accs = []\n",
        "  test_accs = []\n",
        "  train_dataloader = train_dataloader\n",
        "  val_dataloader = val_dataloader\n",
        "\n",
        "  for epoch in range(num_epochs):\n",
        "    \n",
        "    model = train(model=model, optimizer=optimizer, criterion=criterion, dataloader=train_dataloader, epoch=epoch, num_epochs=num_epochs)\n",
        "\n",
        "    # Training Accuracy\n",
        "    train_acc, __ = predict(model=model, dataloader=train_dataloader, mode='Training')\n",
        "    train_accs.append(train_acc)\n",
        "\n",
        "    # Validation Accuracy\n",
        "    val_acc, __ = predict(model=model, dataloader=val_dataloader, mode='Validation')\n",
        "    val_accs.append(val_acc)\n",
        "\n",
        "    # # Test Accuracy\n",
        "    # test_acc, __ = predict(model=model, dataloader=test_dataloader)\n",
        "    # test_accs.append(test_acc)\n",
        "\n",
        "  return train_accs, val_accs #, test_accs"
      ]
    },
    {
      "cell_type": "code",
      "execution_count": null,
      "metadata": {
        "id": "Ur7XroTzeue2"
      },
      "outputs": [],
      "source": [
        "train_accs, val_accs = train_and_predict(model=cnn_lstm1, optimizer=Adam_optimizer, criterion=CELoss_criterion, num_epochs=100, \n",
        "                                         train_dataloader=train_dataloader, val_dataloader=val_dataloader)"
      ]
    },
    {
      "cell_type": "code",
      "source": [
        "train_accs_1, val_accs_1 = train_and_predict(model=cnn_lstm1, optimizer=Adam_optimizer, criterion=CELoss_criterion, num_epochs=100, \n",
        "                                             train_dataloader=s1_train_dataloader, val_dataloader=s1_val_dataloader)"
      ],
      "metadata": {
        "colab": {
          "base_uri": "https://localhost:8080/"
        },
        "id": "2cXH8ZcVzxiL",
        "outputId": "7d2153cb-c417-42fb-9320-3483a3966f3c"
      },
      "execution_count": null,
      "outputs": [
        {
          "output_type": "stream",
          "name": "stdout",
          "text": [
            "Epoch 1/100 \tTraining Loss: 1.4097521305084229\n",
            "Training Accuracy: 25.664892196655273%\n",
            "Validation Accuracy: 22.39583396911621%\n",
            "Epoch 2/100 \tTraining Loss: 1.4415494203567505\n",
            "Training Accuracy: 25.53191375732422%\n",
            "Validation Accuracy: 21.875%\n",
            "Epoch 3/100 \tTraining Loss: 1.4670401811599731\n",
            "Training Accuracy: 29.920211791992188%\n",
            "Validation Accuracy: 23.4375%\n",
            "Epoch 4/100 \tTraining Loss: 1.4232513904571533\n",
            "Training Accuracy: 30.851062774658203%\n",
            "Validation Accuracy: 26.5625%\n",
            "Epoch 5/100 \tTraining Loss: 1.3400901556015015\n",
            "Training Accuracy: 35.63829803466797%\n",
            "Validation Accuracy: 29.166667938232422%\n",
            "Epoch 6/100 \tTraining Loss: 1.3495681285858154\n",
            "Training Accuracy: 36.702125549316406%\n",
            "Validation Accuracy: 28.125%\n",
            "Epoch 7/100 \tTraining Loss: 1.2872387170791626\n",
            "Training Accuracy: 48.80318832397461%\n",
            "Validation Accuracy: 34.375%\n",
            "Epoch 8/100 \tTraining Loss: 1.2122734785079956\n",
            "Training Accuracy: 49.468082427978516%\n",
            "Validation Accuracy: 38.54166793823242%\n",
            "Epoch 9/100 \tTraining Loss: 1.1893539428710938\n",
            "Training Accuracy: 54.122337341308594%\n",
            "Validation Accuracy: 33.85416793823242%\n",
            "Epoch 10/100 \tTraining Loss: 1.0038825273513794\n",
            "Training Accuracy: 53.72340393066406%\n",
            "Validation Accuracy: 38.020835876464844%\n",
            "Epoch 11/100 \tTraining Loss: 0.9053873419761658\n",
            "Training Accuracy: 58.37765884399414%\n",
            "Validation Accuracy: 38.54166793823242%\n",
            "Epoch 12/100 \tTraining Loss: 0.9285639524459839\n",
            "Training Accuracy: 69.01595306396484%\n",
            "Validation Accuracy: 40.10416793823242%\n",
            "Epoch 13/100 \tTraining Loss: 0.7744710445404053\n",
            "Training Accuracy: 76.72872161865234%\n",
            "Validation Accuracy: 33.85416793823242%\n",
            "Epoch 14/100 \tTraining Loss: 0.7216803431510925\n",
            "Training Accuracy: 79.52127075195312%\n",
            "Validation Accuracy: 34.895835876464844%\n",
            "Epoch 15/100 \tTraining Loss: 0.5935013294219971\n",
            "Training Accuracy: 88.69680786132812%\n",
            "Validation Accuracy: 33.333335876464844%\n",
            "Epoch 16/100 \tTraining Loss: 0.4835752248764038\n",
            "Training Accuracy: 92.9521255493164%\n",
            "Validation Accuracy: 32.29166793823242%\n",
            "Epoch 17/100 \tTraining Loss: 0.46993064880371094\n",
            "Training Accuracy: 92.2872314453125%\n",
            "Validation Accuracy: 28.64583396911621%\n",
            "Epoch 18/100 \tTraining Loss: 0.2901232838630676\n",
            "Training Accuracy: 98.67021179199219%\n",
            "Validation Accuracy: 30.729167938232422%\n",
            "Epoch 19/100 \tTraining Loss: 0.23318244516849518\n",
            "Training Accuracy: 99.86701965332031%\n",
            "Validation Accuracy: 34.895835876464844%\n",
            "Epoch 20/100 \tTraining Loss: 0.21183961629867554\n",
            "Training Accuracy: 99.60105895996094%\n",
            "Validation Accuracy: 43.22916793823242%\n",
            "Epoch 21/100 \tTraining Loss: 0.17822381854057312\n",
            "Training Accuracy: 98.80319213867188%\n",
            "Validation Accuracy: 44.270835876464844%\n",
            "Epoch 22/100 \tTraining Loss: 0.150372713804245\n",
            "Training Accuracy: 99.60105895996094%\n",
            "Validation Accuracy: 34.895835876464844%\n",
            "Epoch 23/100 \tTraining Loss: 0.13241708278656006\n",
            "Training Accuracy: 99.86701965332031%\n",
            "Validation Accuracy: 37.5%\n",
            "Epoch 24/100 \tTraining Loss: 0.10775317996740341\n",
            "Training Accuracy: 96.14361572265625%\n",
            "Validation Accuracy: 38.020835876464844%\n",
            "Epoch 25/100 \tTraining Loss: 0.17420987784862518\n",
            "Training Accuracy: 99.73403930664062%\n",
            "Validation Accuracy: 37.5%\n",
            "Epoch 26/100 \tTraining Loss: 0.13591855764389038\n",
            "Training Accuracy: 96.4095687866211%\n",
            "Validation Accuracy: 37.5%\n",
            "Epoch 27/100 \tTraining Loss: 0.1434517502784729\n",
            "Training Accuracy: 98.80319213867188%\n",
            "Validation Accuracy: 41.66666793823242%\n",
            "Epoch 28/100 \tTraining Loss: 0.06081314757466316\n",
            "Training Accuracy: 99.73403930664062%\n",
            "Validation Accuracy: 39.0625%\n",
            "Epoch 29/100 \tTraining Loss: 0.1110101044178009\n",
            "Training Accuracy: 99.06914520263672%\n",
            "Validation Accuracy: 35.41666793823242%\n",
            "Epoch 30/100 \tTraining Loss: 0.025418734177947044\n",
            "Training Accuracy: 100.0%\n",
            "Validation Accuracy: 39.583335876464844%\n",
            "Epoch 31/100 \tTraining Loss: 0.04311864450573921\n",
            "Training Accuracy: 99.86701965332031%\n",
            "Validation Accuracy: 35.41666793823242%\n",
            "Epoch 32/100 \tTraining Loss: 0.0853397473692894\n",
            "Training Accuracy: 99.73403930664062%\n",
            "Validation Accuracy: 42.708335876464844%\n",
            "Epoch 33/100 \tTraining Loss: 0.046615418046712875\n",
            "Training Accuracy: 99.60105895996094%\n",
            "Validation Accuracy: 35.9375%\n",
            "Epoch 34/100 \tTraining Loss: 0.46997272968292236\n",
            "Training Accuracy: 99.60105895996094%\n",
            "Validation Accuracy: 36.97916793823242%\n",
            "Epoch 35/100 \tTraining Loss: 0.016335010528564453\n",
            "Training Accuracy: 99.73403930664062%\n",
            "Validation Accuracy: 36.458335876464844%\n",
            "Epoch 36/100 \tTraining Loss: 0.10855907946825027\n",
            "Training Accuracy: 99.86701965332031%\n",
            "Validation Accuracy: 39.0625%\n",
            "Epoch 37/100 \tTraining Loss: 0.035088587552309036\n",
            "Training Accuracy: 99.86701965332031%\n",
            "Validation Accuracy: 34.375%\n",
            "Epoch 38/100 \tTraining Loss: 0.14618933200836182\n",
            "Training Accuracy: 99.60105895996094%\n",
            "Validation Accuracy: 42.1875%\n",
            "Epoch 39/100 \tTraining Loss: 0.07903813570737839\n",
            "Training Accuracy: 99.73403930664062%\n",
            "Validation Accuracy: 38.020835876464844%\n",
            "Epoch 40/100 \tTraining Loss: 0.2043527066707611\n",
            "Training Accuracy: 100.0%\n",
            "Validation Accuracy: 32.29166793823242%\n",
            "Epoch 41/100 \tTraining Loss: 0.15543228387832642\n",
            "Training Accuracy: 100.0%\n",
            "Validation Accuracy: 35.9375%\n",
            "Epoch 42/100 \tTraining Loss: 0.031029008328914642\n",
            "Training Accuracy: 100.0%\n",
            "Validation Accuracy: 40.10416793823242%\n",
            "Epoch 43/100 \tTraining Loss: 0.019007330760359764\n",
            "Training Accuracy: 99.73403930664062%\n",
            "Validation Accuracy: 38.54166793823242%\n",
            "Epoch 44/100 \tTraining Loss: 0.015029391273856163\n",
            "Training Accuracy: 100.0%\n",
            "Validation Accuracy: 43.22916793823242%\n",
            "Epoch 45/100 \tTraining Loss: 0.1101975217461586\n",
            "Training Accuracy: 100.0%\n",
            "Validation Accuracy: 39.583335876464844%\n",
            "Epoch 46/100 \tTraining Loss: 0.007722348906099796\n",
            "Training Accuracy: 100.0%\n",
            "Validation Accuracy: 39.583335876464844%\n",
            "Epoch 47/100 \tTraining Loss: 0.11758698523044586\n",
            "Training Accuracy: 99.73403930664062%\n",
            "Validation Accuracy: 32.8125%\n",
            "Epoch 48/100 \tTraining Loss: 0.010686736553907394\n",
            "Training Accuracy: 99.73403930664062%\n",
            "Validation Accuracy: 35.9375%\n",
            "Epoch 49/100 \tTraining Loss: 0.021877635270357132\n",
            "Training Accuracy: 99.73403930664062%\n",
            "Validation Accuracy: 38.020835876464844%\n",
            "Epoch 50/100 \tTraining Loss: 0.019103700295090675\n",
            "Training Accuracy: 100.0%\n",
            "Validation Accuracy: 45.3125%\n",
            "Epoch 51/100 \tTraining Loss: 0.20412211120128632\n",
            "Training Accuracy: 100.0%\n",
            "Validation Accuracy: 36.97916793823242%\n",
            "Epoch 52/100 \tTraining Loss: 0.023706715553998947\n",
            "Training Accuracy: 99.86701965332031%\n",
            "Validation Accuracy: 42.708335876464844%\n",
            "Epoch 53/100 \tTraining Loss: 0.00996850524097681\n",
            "Training Accuracy: 100.0%\n",
            "Validation Accuracy: 39.583335876464844%\n",
            "Epoch 54/100 \tTraining Loss: 0.011470219120383263\n",
            "Training Accuracy: 99.86701965332031%\n",
            "Validation Accuracy: 44.79166793823242%\n",
            "Epoch 55/100 \tTraining Loss: 0.012479342520236969\n",
            "Training Accuracy: 100.0%\n",
            "Validation Accuracy: 40.625%\n",
            "Epoch 56/100 \tTraining Loss: 0.011743170209228992\n",
            "Training Accuracy: 100.0%\n",
            "Validation Accuracy: 42.1875%\n",
            "Epoch 57/100 \tTraining Loss: 0.006159424316138029\n",
            "Training Accuracy: 100.0%\n",
            "Validation Accuracy: 36.97916793823242%\n",
            "Epoch 58/100 \tTraining Loss: 0.22442929446697235\n",
            "Training Accuracy: 98.5372314453125%\n",
            "Validation Accuracy: 34.895835876464844%\n",
            "Epoch 59/100 \tTraining Loss: 0.009539283812046051\n",
            "Training Accuracy: 99.73403930664062%\n",
            "Validation Accuracy: 36.458335876464844%\n",
            "Epoch 60/100 \tTraining Loss: 0.1415877789258957\n",
            "Training Accuracy: 99.46807861328125%\n",
            "Validation Accuracy: 37.5%\n",
            "Epoch 61/100 \tTraining Loss: 0.3386252522468567\n",
            "Training Accuracy: 99.86701965332031%\n",
            "Validation Accuracy: 34.375%\n",
            "Epoch 62/100 \tTraining Loss: 0.15277329087257385\n",
            "Training Accuracy: 99.86701965332031%\n",
            "Validation Accuracy: 40.625%\n",
            "Epoch 63/100 \tTraining Loss: 0.22430576384067535\n",
            "Training Accuracy: 98.5372314453125%\n",
            "Validation Accuracy: 36.97916793823242%\n",
            "Epoch 64/100 \tTraining Loss: 0.15583932399749756\n",
            "Training Accuracy: 99.60105895996094%\n",
            "Validation Accuracy: 42.1875%\n",
            "Epoch 65/100 \tTraining Loss: 0.013698164373636246\n",
            "Training Accuracy: 99.2021255493164%\n",
            "Validation Accuracy: 36.97916793823242%\n",
            "Epoch 66/100 \tTraining Loss: 0.01490580104291439\n",
            "Training Accuracy: 100.0%\n",
            "Validation Accuracy: 36.458335876464844%\n",
            "Epoch 67/100 \tTraining Loss: 0.013895895332098007\n",
            "Training Accuracy: 100.0%\n",
            "Validation Accuracy: 32.29166793823242%\n",
            "Epoch 68/100 \tTraining Loss: 0.18552438914775848\n",
            "Training Accuracy: 100.0%\n",
            "Validation Accuracy: 38.020835876464844%\n",
            "Epoch 69/100 \tTraining Loss: 0.007297047879546881\n",
            "Training Accuracy: 100.0%\n",
            "Validation Accuracy: 33.85416793823242%\n",
            "Epoch 70/100 \tTraining Loss: 0.007883892394602299\n",
            "Training Accuracy: 100.0%\n",
            "Validation Accuracy: 34.895835876464844%\n",
            "Epoch 71/100 \tTraining Loss: 0.02162151411175728\n",
            "Training Accuracy: 100.0%\n",
            "Validation Accuracy: 35.41666793823242%\n",
            "Epoch 72/100 \tTraining Loss: 0.01493624597787857\n",
            "Training Accuracy: 100.0%\n",
            "Validation Accuracy: 36.97916793823242%\n",
            "Epoch 73/100 \tTraining Loss: 0.009136981330811977\n",
            "Training Accuracy: 100.0%\n",
            "Validation Accuracy: 36.458335876464844%\n",
            "Epoch 74/100 \tTraining Loss: 0.014276575297117233\n",
            "Training Accuracy: 100.0%\n",
            "Validation Accuracy: 34.895835876464844%\n",
            "Epoch 75/100 \tTraining Loss: 0.008418763987720013\n",
            "Training Accuracy: 100.0%\n",
            "Validation Accuracy: 35.41666793823242%\n",
            "Epoch 76/100 \tTraining Loss: 0.009716582484543324\n",
            "Training Accuracy: 99.86701965332031%\n",
            "Validation Accuracy: 32.8125%\n",
            "Epoch 77/100 \tTraining Loss: 0.007777570281177759\n",
            "Training Accuracy: 100.0%\n",
            "Validation Accuracy: 35.41666793823242%\n",
            "Epoch 78/100 \tTraining Loss: 0.01220763847231865\n",
            "Training Accuracy: 100.0%\n",
            "Validation Accuracy: 32.8125%\n",
            "Epoch 79/100 \tTraining Loss: 0.004441516473889351\n",
            "Training Accuracy: 100.0%\n",
            "Validation Accuracy: 41.145835876464844%\n",
            "Epoch 80/100 \tTraining Loss: 0.003888035425916314\n",
            "Training Accuracy: 100.0%\n",
            "Validation Accuracy: 34.895835876464844%\n",
            "Epoch 81/100 \tTraining Loss: 0.0033159619197249413\n",
            "Training Accuracy: 100.0%\n",
            "Validation Accuracy: 32.29166793823242%\n",
            "Epoch 82/100 \tTraining Loss: 0.012488391250371933\n",
            "Training Accuracy: 100.0%\n",
            "Validation Accuracy: 32.8125%\n",
            "Epoch 83/100 \tTraining Loss: 0.008370633237063885\n",
            "Training Accuracy: 100.0%\n",
            "Validation Accuracy: 33.333335876464844%\n",
            "Epoch 84/100 \tTraining Loss: 0.02039933204650879\n",
            "Training Accuracy: 100.0%\n",
            "Validation Accuracy: 36.97916793823242%\n",
            "Epoch 85/100 \tTraining Loss: 0.18743735551834106\n",
            "Training Accuracy: 99.86701965332031%\n",
            "Validation Accuracy: 37.5%\n",
            "Epoch 86/100 \tTraining Loss: 0.004734258633106947\n",
            "Training Accuracy: 99.46807861328125%\n",
            "Validation Accuracy: 34.375%\n",
            "Epoch 87/100 \tTraining Loss: 0.008243266493082047\n",
            "Training Accuracy: 100.0%\n",
            "Validation Accuracy: 34.895835876464844%\n",
            "Epoch 88/100 \tTraining Loss: 0.02101239375770092\n",
            "Training Accuracy: 99.73403930664062%\n",
            "Validation Accuracy: 34.895835876464844%\n",
            "Epoch 89/100 \tTraining Loss: 0.003981850575655699\n",
            "Training Accuracy: 100.0%\n",
            "Validation Accuracy: 34.895835876464844%\n",
            "Epoch 90/100 \tTraining Loss: 0.0027591674588620663\n",
            "Training Accuracy: 100.0%\n",
            "Validation Accuracy: 31.77083396911621%\n",
            "Epoch 91/100 \tTraining Loss: 0.005331411492079496\n",
            "Training Accuracy: 100.0%\n",
            "Validation Accuracy: 32.8125%\n",
            "Epoch 92/100 \tTraining Loss: 0.038038164377212524\n",
            "Training Accuracy: 99.86701965332031%\n",
            "Validation Accuracy: 40.625%\n",
            "Epoch 93/100 \tTraining Loss: 0.015525336377322674\n",
            "Training Accuracy: 100.0%\n",
            "Validation Accuracy: 37.5%\n",
            "Epoch 94/100 \tTraining Loss: 0.0045625027269124985\n",
            "Training Accuracy: 99.86701965332031%\n",
            "Validation Accuracy: 36.97916793823242%\n",
            "Epoch 95/100 \tTraining Loss: 0.004658641293644905\n",
            "Training Accuracy: 100.0%\n",
            "Validation Accuracy: 33.85416793823242%\n",
            "Epoch 96/100 \tTraining Loss: 0.26810574531555176\n",
            "Training Accuracy: 99.60105895996094%\n",
            "Validation Accuracy: 34.375%\n",
            "Epoch 97/100 \tTraining Loss: 0.004037503153085709\n",
            "Training Accuracy: 100.0%\n",
            "Validation Accuracy: 37.5%\n",
            "Epoch 98/100 \tTraining Loss: 0.004783848766237497\n",
            "Training Accuracy: 100.0%\n",
            "Validation Accuracy: 34.375%\n",
            "Epoch 99/100 \tTraining Loss: 0.019252369180321693\n",
            "Training Accuracy: 99.86701965332031%\n",
            "Validation Accuracy: 32.29166793823242%\n",
            "Epoch 100/100 \tTraining Loss: 0.008113841526210308\n",
            "Training Accuracy: 100.0%\n",
            "Validation Accuracy: 33.85416793823242%\n"
          ]
        }
      ]
    },
    {
      "cell_type": "code",
      "source": [
        "print('Highest Training Accuracy: {}%'.format(max(train_accs)))\n",
        "print('Highest Validation Accuracy: {}%'.format(max(val_accs)))"
      ],
      "metadata": {
        "colab": {
          "base_uri": "https://localhost:8080/"
        },
        "id": "sKmXUZe7tujC",
        "outputId": "b23b4ab1-02f1-4a91-a8e8-43d7b02b83a1"
      },
      "execution_count": null,
      "outputs": [
        {
          "output_type": "stream",
          "name": "stdout",
          "text": [
            "Highest Training Accuracy: 100.0%\n",
            "Highest Validation Accuracy: 64.47990417480469%\n"
          ]
        }
      ]
    },
    {
      "cell_type": "code",
      "source": [
        "print('Subject 1 Highest Training Accuracy: {}%'.format(max(train_accs_1)))\n",
        "print('Subject 1 Highest Validation Accuracy: {}%'.format(max(val_accs_1)))"
      ],
      "metadata": {
        "colab": {
          "base_uri": "https://localhost:8080/"
        },
        "id": "pzypcyVB0c-9",
        "outputId": "0b48890f-675f-46fe-86c7-bdba02ee4d48"
      },
      "execution_count": null,
      "outputs": [
        {
          "output_type": "stream",
          "name": "stdout",
          "text": [
            "Subject 1 Highest Training Accuracy: 100.0%\n",
            "Subject 1 Highest Validation Accuracy: 45.3125%\n"
          ]
        }
      ]
    },
    {
      "cell_type": "code",
      "source": [
        "test_acc, __ = predict(model=cnn_lstm1, dataloader=test_dataloader, mode='Test')"
      ],
      "metadata": {
        "colab": {
          "base_uri": "https://localhost:8080/"
        },
        "id": "jokNyJWh0baK",
        "outputId": "12d2ff44-be54-4aac-cf50-302d1fd028f0"
      },
      "execution_count": null,
      "outputs": [
        {
          "output_type": "stream",
          "name": "stdout",
          "text": [
            "Test Accuracy: 62.584651947021484%\n"
          ]
        }
      ]
    },
    {
      "cell_type": "code",
      "source": [
        "test_acc, __ = predict(model=cnn_lstm1, dataloader=s1_test_dataloader, mode='Test')"
      ],
      "metadata": {
        "colab": {
          "base_uri": "https://localhost:8080/"
        },
        "id": "dLlmkmOa0nRr",
        "outputId": "f5676bf4-4544-4da9-8fba-a1775ce51b5d"
      },
      "execution_count": null,
      "outputs": [
        {
          "output_type": "stream",
          "name": "stdout",
          "text": [
            "Test Accuracy: 45.0%\n"
          ]
        }
      ]
    },
    {
      "cell_type": "code",
      "source": [
        "train_accs_np = [int(i) for i in train_accs]\n",
        "val_accs_np = [int(i) for i in val_accs]"
      ],
      "metadata": {
        "id": "XGIgKvD5TctM"
      },
      "execution_count": null,
      "outputs": []
    },
    {
      "cell_type": "code",
      "source": [
        "import matplotlib.pyplot as plt\n",
        "\n",
        "fig, ax = plt.subplots(figsize=(8, 6), dpi=100)\n",
        "ax.plot(range(100), train_accs_np, c='tab:blue', label='Training Accuracy')\n",
        "ax.plot(range(100), val_accs_np, c='tab:orange', label='Validation Accuracy')\n",
        "ax.axhline(y=int(test_acc), color='tab:red', linestyle='dotted')\n",
        "ax.set_xlabel('Epoch', fontsize='10')\n",
        "ax.set_ylabel('Accuracy', fontsize='10')\n",
        "ax.set_title('Training and Validation Accuracy', fontsize='17')\n",
        "ax.grid()\n",
        "ax.legend(fontsize='15')\n",
        "plt.show()"
      ],
      "metadata": {
        "id": "52CxcfCMFjxT",
        "colab": {
          "base_uri": "https://localhost:8080/",
          "height": 560
        },
        "outputId": "52aa89e4-6d70-4761-fc8b-e0734049dc57"
      },
      "execution_count": null,
      "outputs": [
        {
          "output_type": "display_data",
          "data": {
            "text/plain": [
              "<Figure size 800x600 with 1 Axes>"
            ],
            "image/png": "[encoded data removed]"
          },
          "metadata": {
            "needs_background": "light"
          }
        }
      ]
    }
  ],
  "metadata": {
    "colab": {
      "provenance": []
    },
    "gpuClass": "standard",
    "kernelspec": {
      "display_name": "Python 3",
      "name": "python3"
    },
    "language_info": {
      "name": "python"
    },
    "accelerator": "GPU"
  },
  "nbformat": 4,
  "nbformat_minor": 0
}