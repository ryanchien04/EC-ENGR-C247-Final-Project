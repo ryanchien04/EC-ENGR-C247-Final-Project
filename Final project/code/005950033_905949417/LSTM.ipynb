{
  "nbformat": 4,
  "nbformat_minor": 0,
  "metadata": {
    "colab": {
      "provenance": []
    },
    "kernelspec": {
      "name": "python3",
      "display_name": "Python 3"
    },
    "language_info": {
      "name": "python"
    },
    "gpuClass": "standard",
    "accelerator": "GPU"
  },
  "cells": [
    {
      "cell_type": "code",
      "execution_count": null,
      "metadata": {
        "id": "O6A8j7pB8eaW",
        "colab": {
          "base_uri": "https://localhost:8080/"
        },
        "outputId": "f3e36b13-f8cf-4f56-b1d9-cf8792a7b6bd"
      },
      "outputs": [
        {
          "output_type": "stream",
          "name": "stdout",
          "text": [
            "Drive already mounted at /content/drive; to attempt to forcibly remount, call drive.mount(\"/content/drive\", force_remount=True).\n"
          ]
        }
      ],
      "source": [
        "from google.colab import drive\n",
        "drive.mount('/content/drive')"
      ]
    },
    {
      "cell_type": "code",
      "source": [
        "FOLDERNAME = 'ECE C247 Final Project'\n",
        "assert FOLDERNAME is not None, \"[!] Enter the foldername.\"\n",
        "\n",
        "import sys\n",
        "sys.path.append('/content/drive/My Drive/{}'.format(FOLDERNAME))"
      ],
      "metadata": {
        "id": "S5Nehpg99j3N"
      },
      "execution_count": null,
      "outputs": []
    },
    {
      "cell_type": "code",
      "source": [
        "import torch\n",
        "import torch.nn as nn\n",
        "from torch.autograd import Variable\n",
        "import torchvision.transforms as transforms\n",
        "import torchvision.datasets as dsets\n",
        "import torch.utils.data\n",
        "from sklearn.model_selection import train_test_split, KFold"
      ],
      "metadata": {
        "id": "wnZVQAFxCDKP"
      },
      "execution_count": null,
      "outputs": []
    },
    {
      "cell_type": "code",
      "source": [
        "device = torch.device('cuda:0')"
      ],
      "metadata": {
        "id": "TmgmQSz-9_6K"
      },
      "execution_count": null,
      "outputs": []
    },
    {
      "cell_type": "markdown",
      "metadata": {
        "id": "TpC-13zU3OPn"
      },
      "source": [
        "## Downloading the dataset"
      ]
    },
    {
      "cell_type": "code",
      "execution_count": null,
      "metadata": {
        "colab": {
          "base_uri": "https://localhost:8080/"
        },
        "outputId": "f5492e87-a469-4822-f920-f3b1b610dff4",
        "id": "IzRA4oRf3OPn"
      },
      "outputs": [
        {
          "output_type": "stream",
          "name": "stdout",
          "text": [
            "/content/drive/MyDrive/ECE C247 Final Project/dataset\n"
          ]
        }
      ],
      "source": [
        "%cd '/content/drive/MyDrive/ECE C247 Final Project/dataset'\n",
        "import numpy as np\n",
        "import pandas as pd\n",
        "X_test = np.load(\"X_test.npy\")\n",
        "y_test = np.load(\"y_test.npy\")\n",
        "person_train_valid = np.load(\"person_train_valid.npy\")\n",
        "X_train_valid = np.load(\"X_train_valid.npy\")\n",
        "y_train_valid = np.load(\"y_train_valid.npy\")\n",
        "person_test = np.load(\"person_test.npy\")\n",
        "\n",
        "y_train_valid -= 769\n",
        "y_test -= 769"
      ]
    },
    {
      "cell_type": "code",
      "execution_count": null,
      "metadata": {
        "colab": {
          "base_uri": "https://localhost:8080/"
        },
        "outputId": "d7157b08-e410-48d0-c603-0f3c95714531",
        "id": "I1IFRtMZ3OPo"
      },
      "outputs": [
        {
          "output_type": "stream",
          "name": "stdout",
          "text": [
            "Training/Valid data shape: (2115, 22, 1000)\n",
            "Test data shape: (443, 22, 1000)\n",
            "Training/Valid target shape: (2115,)\n",
            "Test target shape: (443,)\n",
            "Person train/valid shape: (2115, 1)\n",
            "Person test shape: (443, 1)\n"
          ]
        }
      ],
      "source": [
        "print(\"Training/Valid data shape: {}\".format(X_train_valid.shape))\n",
        "print(\"Test data shape: {}\".format(X_test.shape))\n",
        "print(\"Training/Valid target shape: {}\".format(y_train_valid.shape))\n",
        "print(\"Test target shape: {}\".format(y_test.shape))\n",
        "print(\"Person train/valid shape: {}\".format(person_train_valid.shape))\n",
        "print(\"Person test shape: {}\".format(person_test.shape))"
      ]
    },
    {
      "cell_type": "code",
      "source": [
        "s1_X_train_valid = X_train_valid[np.where(person_train_valid == 1)[0]]\n",
        "s1_y_train_valid = y_train_valid[np.where(person_train_valid == 1)[0]]\n",
        "s1_X_test = X_test[np.where(person_test == 1)[0]]\n",
        "s1_y_test = y_test[np.where(person_test == 1)[0]]\n",
        "\n",
        "print(s1_X_train_valid.shape, s1_y_train_valid.shape, s1_X_test.shape, s1_y_test.shape)"
      ],
      "metadata": {
        "colab": {
          "base_uri": "https://localhost:8080/"
        },
        "id": "XeM2Ib_pN3Q5",
        "outputId": "03092ef5-0e36-4694-f3a1-5ca8522e3ef2"
      },
      "execution_count": null,
      "outputs": [
        {
          "output_type": "stream",
          "name": "stdout",
          "text": [
            "(236, 22, 1000) (236,) (50, 22, 1000) (50,)\n"
          ]
        }
      ]
    },
    {
      "cell_type": "code",
      "execution_count": null,
      "metadata": {
        "id": "Rf0Ghxt_3OPo"
      },
      "outputs": [],
      "source": [
        "X_train, X_val, y_train, y_val = train_test_split(X_train_valid, y_train_valid, test_size=0.2, random_state=10)\n",
        "s1_X_train, s1_X_val, s1_y_train, s1_y_val = train_test_split(s1_X_train_valid, s1_y_train_valid, test_size=0.2, random_state=10)"
      ]
    },
    {
      "cell_type": "code",
      "source": [
        "def data_prep(X,y,sub_sample,average,noise):\n",
        "    \n",
        "    total_X = None\n",
        "    total_y = None\n",
        "    \n",
        "    # Trimming the data (sample,22,1000) -> (sample,22,500)\n",
        "    X = X[:,:,0:500]\n",
        "    print('Shape of X after trimming:',X.shape)\n",
        "    \n",
        "    # Maxpooling the data (sample,22,1000) -> (sample,22,500/sub_sample)\n",
        "    X_max = np.max(X.reshape(X.shape[0], X.shape[1], -1, sub_sample), axis=3)\n",
        "    \n",
        "    \n",
        "    total_X = X_max\n",
        "    total_y = y\n",
        "    print('Shape of X after maxpooling:',total_X.shape)\n",
        "    \n",
        "    # Averaging + noise \n",
        "    X_average = np.mean(X.reshape(X.shape[0], X.shape[1], -1, average),axis=3)\n",
        "    X_average = X_average + np.random.normal(0.0, 0.5, X_average.shape)\n",
        "    \n",
        "    total_X = np.vstack((total_X, X_average))\n",
        "    total_y = np.hstack((total_y, y))\n",
        "    print('Shape of X after averaging+noise and concatenating:',total_X.shape)\n",
        "    \n",
        "    # Subsampling\n",
        "    \n",
        "    for i in range(sub_sample):\n",
        "        \n",
        "        X_subsample = X[:, :, i::sub_sample] + \\\n",
        "                            (np.random.normal(0.0, 0.5, X[:, :,i::sub_sample].shape) if noise else 0.0)\n",
        "            \n",
        "        total_X = np.vstack((total_X, X_subsample))\n",
        "        total_y = np.hstack((total_y, y))\n",
        "        \n",
        "    \n",
        "    print('Shape of X after subsampling and concatenating:',total_X.shape)\n",
        "    return total_X,total_y"
      ],
      "metadata": {
        "id": "QQuhN-vwv1jx"
      },
      "execution_count": null,
      "outputs": []
    },
    {
      "cell_type": "code",
      "source": [
        "# X_train,y_train = data_prep(X_train,y_train,2,2,True)\n",
        "# X_val,y_val = data_prep(X_val,y_val,2,2,True)\n",
        "# X_test,y_test = data_prep(X_test,y_test,2,2,True)\n",
        "\n",
        "# s1_X_train, s1_y_train = data_prep(s1_X_train, s1_y_train,2,2,True)\n",
        "# s1_X_val, s1_y_val = data_prep(s1_X_val, s1_y_val,2,2,True)\n",
        "# s1_X_test, s1_y_test = data_prep(s1_X_test, s1_y_test,2,2,True)"
      ],
      "metadata": {
        "id": "YmA2PCR-v7aH"
      },
      "execution_count": null,
      "outputs": []
    },
    {
      "cell_type": "code",
      "execution_count": null,
      "metadata": {
        "id": "y8my_Czu3OPp"
      },
      "outputs": [],
      "source": [
        "X_train = np.swapaxes(X_train, 1,2)\n",
        "X_val = np.swapaxes(X_val, 1,2)\n",
        "X_test = np.swapaxes(X_test, 1,2)\n",
        "\n",
        "s1_X_train = np.swapaxes(s1_X_train, 1,2)\n",
        "s1_X_val = np.swapaxes(s1_X_val, 1,2)\n",
        "s1_X_test = np.swapaxes(s1_X_test, 1,2)"
      ]
    },
    {
      "cell_type": "code",
      "execution_count": null,
      "metadata": {
        "colab": {
          "base_uri": "https://localhost:8080/"
        },
        "outputId": "05358a26-e8f8-4a97-bdd0-97278bd1269d",
        "id": "ww1JRcTr3OPp"
      },
      "outputs": [
        {
          "output_type": "stream",
          "name": "stdout",
          "text": [
            "X train shape: torch.Size([1692, 1, 1000, 22]), y train shape: torch.Size([1692])\n",
            "X validation shape: torch.Size([423, 1, 1000, 22]), y validation shape: torch.Size([423])\n",
            "X test shape: torch.Size([443, 1, 1000, 22]), y test shape: torch.Size([443])\n"
          ]
        }
      ],
      "source": [
        "X_train = torch.from_numpy(X_train).float()\n",
        "X_train = X_train[:,None,:,:]\n",
        "s1_X_train = torch.from_numpy(s1_X_train).float()\n",
        "s1_X_train = s1_X_train[:,None,:,:]\n",
        "y_train = torch.from_numpy(y_train).long()\n",
        "s1_y_train = torch.from_numpy(s1_y_train).long()\n",
        "\n",
        "X_val = torch.from_numpy(X_val).float()\n",
        "X_val = X_val[:,None,:,:]\n",
        "s1_X_val = torch.from_numpy(s1_X_val).float()\n",
        "s1_X_val = s1_X_val[:,None,:,:]\n",
        "y_val = torch.from_numpy(y_val).long()\n",
        "s1_y_val = torch.from_numpy(s1_y_val).long()\n",
        "\n",
        "X_test = torch.from_numpy(X_test).float()\n",
        "X_test = X_test[:,None,:,:]\n",
        "s1_X_test = torch.from_numpy(s1_X_test).float()\n",
        "s1_X_test = s1_X_test[:,None,:,:]\n",
        "y_test = torch.from_numpy(y_test).long()\n",
        "s1_y_test = torch.from_numpy(s1_y_test).long()\n",
        "\n",
        "print('X train shape: {}, y train shape: {}'.format(X_train.shape, y_train.shape))\n",
        "print('X validation shape: {}, y validation shape: {}'.format(X_val.shape, y_val.shape))\n",
        "print('X test shape: {}, y test shape: {}'.format(X_test.shape, y_test.shape))"
      ]
    },
    {
      "cell_type": "code",
      "execution_count": null,
      "metadata": {
        "id": "yC9t4Qc43OPp"
      },
      "outputs": [],
      "source": [
        "train_dataset = torch.utils.data.TensorDataset(X_train, y_train)\n",
        "val_dataset = torch.utils.data.TensorDataset(X_val, y_val)\n",
        "test_dataset = torch.utils.data.TensorDataset(X_test, y_test)\n",
        "\n",
        "s1_train_dataset = torch.utils.data.TensorDataset(s1_X_train, s1_y_train)\n",
        "s1_val_dataset = torch.utils.data.TensorDataset(s1_X_val, s1_y_val)\n",
        "s1_test_dataset = torch.utils.data.TensorDataset(s1_X_test, s1_y_test)\n",
        "\n",
        "train_dataloader = torch.utils.data.DataLoader(train_dataset, batch_size=32, shuffle=True)\n",
        "val_dataloader = torch.utils.data.DataLoader(val_dataset, batch_size=32, shuffle=True)\n",
        "test_dataloader = torch.utils.data.DataLoader(test_dataset, batch_size=32, shuffle=True)\n",
        "\n",
        "s1_train_dataloader = torch.utils.data.DataLoader(s1_train_dataset, batch_size=32, shuffle=True)\n",
        "s1_val_dataloader = torch.utils.data.DataLoader(s1_val_dataset, batch_size=32, shuffle=True)\n",
        "s1_test_dataloader = torch.utils.data.DataLoader(s1_test_dataset, batch_size=32, shuffle=True)"
      ]
    },
    {
      "cell_type": "markdown",
      "source": [
        "## LSTM\n",
        "\n",
        "architecture inspiration taken from cnvrg.io"
      ],
      "metadata": {
        "id": "AZNU0i03CBuz"
      }
    },
    {
      "cell_type": "code",
      "source": [
        "class LSTM(nn.Module):\n",
        "  def __init__(self, num_classes, input_size, hidden_size, num_layers, seq_length):\n",
        "      super(LSTM, self).__init__()\n",
        "      self.num_classes = num_classes #number of classes\n",
        "      self.num_layers = num_layers #number of layers\n",
        "      self.input_size = input_size #input size\n",
        "      self.hidden_size = hidden_size #hidden state\n",
        "      self.seq_length = seq_length #sequence length\n",
        "\n",
        "      self.lstm = nn.LSTM(input_size=input_size, hidden_size=hidden_size,\n",
        "                        num_layers=num_layers, batch_first=True, dropout=0.4) \n",
        "      \n",
        "      self.fc = nn.Sequential(\n",
        "            nn.Linear(100, 64),\n",
        "            nn.BatchNorm1d(num_features=64, eps=1e-05, momentum=0.2, affine=True),\n",
        "            nn.ReLU(inplace = True),\n",
        "            nn.Dropout(p=0.2),\n",
        "            nn.Linear(64, 32),\n",
        "            nn.BatchNorm1d(num_features=32, eps=1e-05, momentum=0.2, affine=True),\n",
        "            nn.ReLU(inplace = True),\n",
        "            nn.Linear(32, num_classes)\n",
        "        )\n",
        "    \n",
        "  def forward(self,x):\n",
        "      h_0 = Variable(torch.zeros(self.num_layers, x.size(0), self.hidden_size)).requires_grad_() #hidden state\n",
        "      c_0 = Variable(torch.zeros(self.num_layers, x.size(0), self.hidden_size)).requires_grad_()\n",
        "      # Propagate input through LSTM\n",
        "      out, (hn, cn) = self.lstm(x)\n",
        "      out = self.fc(out[:, -1, :])\n",
        "      return out"
      ],
      "metadata": {
        "id": "tPY4VSNVDayX"
      },
      "execution_count": null,
      "outputs": []
    },
    {
      "cell_type": "code",
      "source": [
        "# define hyperparameters\n",
        "learning_rate = 1e-3\n",
        "\n",
        "input_size = 22\n",
        "hidden_size = 100\n",
        "num_layers = 2\n",
        "\n",
        "num_classes = 4\n",
        "lstm1 = LSTM(num_classes=num_classes, input_size=input_size, hidden_size=hidden_size, \n",
        "             num_layers=num_layers, seq_length=X_train_valid.shape[2]).to(device)\n",
        "CELoss_criterion = torch.nn.CrossEntropyLoss()\n",
        "Adam_optimizer = torch.optim.Adam(lstm1.parameters(), lr=learning_rate)"
      ],
      "metadata": {
        "id": "L6LvweXgEl2l"
      },
      "execution_count": null,
      "outputs": []
    },
    {
      "cell_type": "code",
      "source": [
        "#!pip install pytorch_model_summary\n",
        "from pytorch_model_summary import summary\n",
        "print(summary(lstm1, torch.zeros(1, 250, 22).to(device), show_input=True))"
      ],
      "metadata": {
        "colab": {
          "base_uri": "https://localhost:8080/"
        },
        "id": "oCN3vCJ_3llM",
        "outputId": "ccbf984f-984d-43fe-d04b-244734d959e6"
      },
      "execution_count": null,
      "outputs": [
        {
          "output_type": "stream",
          "name": "stdout",
          "text": [
            "-----------------------------------------------------------------------\n",
            "      Layer (type)         Input Shape         Param #     Tr. Param #\n",
            "=======================================================================\n",
            "            LSTM-1        [1, 250, 22]         130,400         130,400\n",
            "          Linear-2            [1, 100]           6,464           6,464\n",
            "     BatchNorm1d-3             [1, 64]             128             128\n",
            "            ReLU-4             [1, 64]               0               0\n",
            "         Dropout-5             [1, 64]               0               0\n",
            "          Linear-6             [1, 64]           2,080           2,080\n",
            "     BatchNorm1d-7             [1, 32]              64              64\n",
            "            ReLU-8             [1, 32]               0               0\n",
            "          Linear-9             [1, 32]             132             132\n",
            "=======================================================================\n",
            "Total params: 139,268\n",
            "Trainable params: 139,268\n",
            "Non-trainable params: 0\n",
            "-----------------------------------------------------------------------\n"
          ]
        }
      ]
    },
    {
      "cell_type": "markdown",
      "metadata": {
        "id": "tPDuoNfweiDg"
      },
      "source": [
        "## Training LSTM Model"
      ]
    },
    {
      "cell_type": "code",
      "execution_count": null,
      "metadata": {
        "id": "ziSrzynf2aWA"
      },
      "outputs": [],
      "source": [
        "def train(model, optimizer, criterion, dataloader, epoch, num_epochs):\n",
        "  \n",
        "  model.train()\n",
        "  \n",
        "  for i, (input, labels) in enumerate(dataloader):\n",
        "      input, labels = input.to(device), labels.to(device)\n",
        "      # Load input as a torch tensor with gradient accumulation abilities\n",
        "      # print(input.shape)\n",
        "      input = input.view(-1, input.shape[2], input.shape[3]).requires_grad_()\n",
        "      # print(input.shape)\n",
        "\n",
        "      # Clear gradients w.r.t. parameters\n",
        "      optimizer.zero_grad()\n",
        "\n",
        "      # Forward pass to get output/logits\n",
        "      outputs = model(input)\n",
        "\n",
        "      # Calculate Loss: softmax --> cross entropy loss\n",
        "      loss = criterion(outputs, labels)\n",
        "      \n",
        "      # Getting gradients w.r.t. parameters\n",
        "      loss.backward()\n",
        "\n",
        "      # Updating parameters\n",
        "      optimizer.step()\n",
        "\n",
        "      # Print Training Loss\n",
        "      if i%50 == 0:\n",
        "        print('Epoch {}/{} \\tTraining Loss: {}'.format(epoch+1, num_epochs, loss.data))\n",
        "\n",
        "  return model"
      ]
    },
    {
      "cell_type": "code",
      "execution_count": null,
      "metadata": {
        "id": "AAoGkKDg2aWB"
      },
      "outputs": [],
      "source": [
        "def predict(model, dataloader, mode):\n",
        "  \n",
        "  model.eval()\n",
        "\n",
        "  correct = 0\n",
        "  total = 0\n",
        "  # Iterate through test dataset\n",
        "  for input, labels in dataloader:\n",
        "      input, labels = input.to(device), labels.to(device)\n",
        "      # Resize images\n",
        "      input = input.view(-1, input.shape[2], input.shape[3])\n",
        "\n",
        "      # Forward pass only to get logits/output\n",
        "      outputs = model(input)\n",
        "\n",
        "      # Get predictions from the maximum value\n",
        "      _, predicted = torch.max(outputs.data, 1)\n",
        "\n",
        "      # Total number of labels\n",
        "      total += labels.size(0)\n",
        "\n",
        "      # Total correct predictions\n",
        "      correct += (predicted == labels).sum()\n",
        "\n",
        "  accuracy = 100 * correct / total\n",
        "  print('{} Accuracy: {}%'.format(mode, accuracy))\n",
        "  \n",
        "  return accuracy, model"
      ]
    },
    {
      "cell_type": "code",
      "execution_count": null,
      "metadata": {
        "id": "NGPEW_Qe2aWB"
      },
      "outputs": [],
      "source": [
        "def train_and_predict(model, optimizer, criterion, num_epochs, train_dataloader, val_dataloader):\n",
        "\n",
        "  train_accs = []\n",
        "  val_accs = []\n",
        "  test_accs = []\n",
        "  train_dataloader = train_dataloader\n",
        "  val_dataloader = val_dataloader\n",
        "\n",
        "  for epoch in range(num_epochs):\n",
        "    \n",
        "    model = train(model=model, optimizer=optimizer, criterion=criterion, dataloader=train_dataloader, epoch=epoch, num_epochs=num_epochs)\n",
        "\n",
        "    # Training Accuracy\n",
        "    train_acc, __ = predict(model=model, dataloader=train_dataloader, mode='Training')\n",
        "    train_accs.append(train_acc)\n",
        "\n",
        "    # Validation Accuracy\n",
        "    val_acc, __ = predict(model=model, dataloader=val_dataloader, mode='Validation')\n",
        "    val_accs.append(val_acc)\n",
        "\n",
        "    # # Test Accuracy\n",
        "    # test_acc, __ = predict(model=model, dataloader=test_dataloader)\n",
        "    # test_accs.append(test_acc)\n",
        "\n",
        "  return train_accs, val_accs #, test_accs"
      ]
    },
    {
      "cell_type": "code",
      "execution_count": null,
      "metadata": {
        "id": "Ur7XroTzeue2",
        "colab": {
          "base_uri": "https://localhost:8080/"
        },
        "outputId": "f3f83cf0-b98a-421b-9687-f22174c17dc4"
      },
      "outputs": [
        {
          "output_type": "stream",
          "name": "stdout",
          "text": [
            "Epoch 1/100 \tTraining Loss: 1.3906700611114502\n",
            "Epoch 1/100 \tTraining Loss: 1.354216456413269\n",
            "Training Accuracy: 41.78487014770508%\n",
            "Validation Accuracy: 24.822694778442383%\n",
            "Epoch 2/100 \tTraining Loss: 1.1898728609085083\n",
            "Epoch 2/100 \tTraining Loss: 1.4332715272903442\n",
            "Training Accuracy: 42.84870147705078%\n",
            "Validation Accuracy: 26.241134643554688%\n",
            "Epoch 3/100 \tTraining Loss: 1.2259186506271362\n",
            "Epoch 3/100 \tTraining Loss: 1.4112286567687988\n",
            "Training Accuracy: 46.572105407714844%\n",
            "Validation Accuracy: 22.931442260742188%\n",
            "Epoch 4/100 \tTraining Loss: 1.2014631032943726\n",
            "Epoch 4/100 \tTraining Loss: 1.2159391641616821\n",
            "Training Accuracy: 48.40425491333008%\n",
            "Validation Accuracy: 24.113475799560547%\n",
            "Epoch 5/100 \tTraining Loss: 1.268478274345398\n",
            "Epoch 5/100 \tTraining Loss: 1.2923007011413574\n",
            "Training Accuracy: 51.59574508666992%\n",
            "Validation Accuracy: 23.167848587036133%\n",
            "Epoch 6/100 \tTraining Loss: 1.255422830581665\n",
            "Epoch 6/100 \tTraining Loss: 1.3560874462127686\n",
            "Training Accuracy: 50.118202209472656%\n",
            "Validation Accuracy: 23.404254913330078%\n",
            "Epoch 7/100 \tTraining Loss: 1.1751030683517456\n",
            "Epoch 7/100 \tTraining Loss: 1.191981554031372\n",
            "Training Accuracy: 52.5413703918457%\n",
            "Validation Accuracy: 24.586288452148438%\n",
            "Epoch 8/100 \tTraining Loss: 1.0853911638259888\n",
            "Epoch 8/100 \tTraining Loss: 1.2654480934143066\n",
            "Training Accuracy: 54.787235260009766%\n",
            "Validation Accuracy: 28.84160804748535%\n",
            "Epoch 9/100 \tTraining Loss: 1.1170438528060913\n",
            "Epoch 9/100 \tTraining Loss: 1.1586594581604004\n",
            "Training Accuracy: 57.624114990234375%\n",
            "Validation Accuracy: 26.477540969848633%\n",
            "Epoch 10/100 \tTraining Loss: 0.9936160445213318\n",
            "Epoch 10/100 \tTraining Loss: 1.284803032875061\n",
            "Training Accuracy: 62.70685577392578%\n",
            "Validation Accuracy: 24.822694778442383%\n",
            "Epoch 11/100 \tTraining Loss: 0.967819094657898\n",
            "Epoch 11/100 \tTraining Loss: 1.080153226852417\n",
            "Training Accuracy: 63.71158218383789%\n",
            "Validation Accuracy: 26.950355529785156%\n",
            "Epoch 12/100 \tTraining Loss: 1.0301635265350342\n",
            "Epoch 12/100 \tTraining Loss: 1.0561771392822266\n",
            "Training Accuracy: 66.8439712524414%\n",
            "Validation Accuracy: 27.423168182373047%\n",
            "Epoch 13/100 \tTraining Loss: 0.876510739326477\n",
            "Epoch 13/100 \tTraining Loss: 0.9175930023193359\n",
            "Training Accuracy: 65.18912506103516%\n",
            "Validation Accuracy: 25.295507431030273%\n",
            "Epoch 14/100 \tTraining Loss: 1.1247961521148682\n",
            "Epoch 14/100 \tTraining Loss: 1.0902057886123657\n",
            "Training Accuracy: 70.62648010253906%\n",
            "Validation Accuracy: 30.260047912597656%\n",
            "Epoch 15/100 \tTraining Loss: 0.8855574727058411\n",
            "Epoch 15/100 \tTraining Loss: 1.288407325744629\n",
            "Training Accuracy: 71.80850982666016%\n",
            "Validation Accuracy: 27.423168182373047%\n",
            "Epoch 16/100 \tTraining Loss: 0.7401020526885986\n",
            "Epoch 16/100 \tTraining Loss: 1.0148488283157349\n",
            "Training Accuracy: 72.16312408447266%\n",
            "Validation Accuracy: 25.059101104736328%\n",
            "Epoch 17/100 \tTraining Loss: 0.7558122277259827\n",
            "Epoch 17/100 \tTraining Loss: 0.8719242811203003\n",
            "Training Accuracy: 76.1820297241211%\n",
            "Validation Accuracy: 26.950355529785156%\n",
            "Epoch 18/100 \tTraining Loss: 0.8189807534217834\n",
            "Epoch 18/100 \tTraining Loss: 0.8310673832893372\n",
            "Training Accuracy: 78.78250885009766%\n",
            "Validation Accuracy: 30.260047912597656%\n",
            "Epoch 19/100 \tTraining Loss: 0.7549938559532166\n",
            "Epoch 19/100 \tTraining Loss: 0.778587281703949\n",
            "Training Accuracy: 80.73286437988281%\n",
            "Validation Accuracy: 27.659574508666992%\n",
            "Epoch 20/100 \tTraining Loss: 0.63036048412323\n",
            "Epoch 20/100 \tTraining Loss: 0.7873666882514954\n",
            "Training Accuracy: 80.49645233154297%\n",
            "Validation Accuracy: 26.004728317260742%\n",
            "Epoch 21/100 \tTraining Loss: 0.6601321697235107\n",
            "Epoch 21/100 \tTraining Loss: 0.9442627429962158\n",
            "Training Accuracy: 80.20094299316406%\n",
            "Validation Accuracy: 26.241134643554688%\n",
            "Epoch 22/100 \tTraining Loss: 0.842639148235321\n",
            "Epoch 22/100 \tTraining Loss: 0.5784701704978943\n",
            "Training Accuracy: 85.99290466308594%\n",
            "Validation Accuracy: 27.1867618560791%\n",
            "Epoch 23/100 \tTraining Loss: 0.5199921727180481\n",
            "Epoch 23/100 \tTraining Loss: 0.6978817582130432\n",
            "Training Accuracy: 84.6335678100586%\n",
            "Validation Accuracy: 24.349882125854492%\n",
            "Epoch 24/100 \tTraining Loss: 0.5110787153244019\n",
            "Epoch 24/100 \tTraining Loss: 0.6776717901229858\n",
            "Training Accuracy: 85.34278869628906%\n",
            "Validation Accuracy: 25.768321990966797%\n",
            "Epoch 25/100 \tTraining Loss: 0.4883512258529663\n",
            "Epoch 25/100 \tTraining Loss: 0.7054497003555298\n",
            "Training Accuracy: 89.7754135131836%\n",
            "Validation Accuracy: 24.349882125854492%\n",
            "Epoch 26/100 \tTraining Loss: 0.4052680432796478\n",
            "Epoch 26/100 \tTraining Loss: 0.5657570958137512\n",
            "Training Accuracy: 91.2529525756836%\n",
            "Validation Accuracy: 30.02364158630371%\n",
            "Epoch 27/100 \tTraining Loss: 0.5708315372467041\n",
            "Epoch 27/100 \tTraining Loss: 0.6540026068687439\n",
            "Training Accuracy: 91.66666412353516%\n",
            "Validation Accuracy: 24.113475799560547%\n",
            "Epoch 28/100 \tTraining Loss: 0.48106521368026733\n",
            "Epoch 28/100 \tTraining Loss: 0.5705278515815735\n",
            "Training Accuracy: 92.55319213867188%\n",
            "Validation Accuracy: 27.1867618560791%\n",
            "Epoch 29/100 \tTraining Loss: 0.31384724378585815\n",
            "Epoch 29/100 \tTraining Loss: 0.6312793493270874\n",
            "Training Accuracy: 91.66666412353516%\n",
            "Validation Accuracy: 27.1867618560791%\n",
            "Epoch 30/100 \tTraining Loss: 0.3959161341190338\n",
            "Epoch 30/100 \tTraining Loss: 0.5380478501319885\n",
            "Training Accuracy: 94.14893341064453%\n",
            "Validation Accuracy: 27.1867618560791%\n",
            "Epoch 31/100 \tTraining Loss: 0.4096739590167999\n",
            "Epoch 31/100 \tTraining Loss: 0.38745710253715515\n",
            "Training Accuracy: 93.380615234375%\n",
            "Validation Accuracy: 23.640661239624023%\n",
            "Epoch 32/100 \tTraining Loss: 0.36142170429229736\n",
            "Epoch 32/100 \tTraining Loss: 0.2809256911277771\n",
            "Training Accuracy: 93.3215103149414%\n",
            "Validation Accuracy: 28.605201721191406%\n",
            "Epoch 33/100 \tTraining Loss: 0.26456713676452637\n",
            "Epoch 33/100 \tTraining Loss: 0.5848015546798706\n",
            "Training Accuracy: 96.21749114990234%\n",
            "Validation Accuracy: 24.822694778442383%\n",
            "Epoch 34/100 \tTraining Loss: 0.14970260858535767\n",
            "Epoch 34/100 \tTraining Loss: 0.3401288688182831\n",
            "Training Accuracy: 95.44917297363281%\n",
            "Validation Accuracy: 28.132387161254883%\n",
            "Epoch 35/100 \tTraining Loss: 0.2001410722732544\n",
            "Epoch 35/100 \tTraining Loss: 0.42839837074279785\n",
            "Training Accuracy: 97.81324005126953%\n",
            "Validation Accuracy: 25.53191566467285%\n",
            "Epoch 36/100 \tTraining Loss: 0.12174373865127563\n",
            "Epoch 36/100 \tTraining Loss: 0.18125715851783752\n",
            "Training Accuracy: 97.22222137451172%\n",
            "Validation Accuracy: 27.1867618560791%\n",
            "Epoch 37/100 \tTraining Loss: 0.29785019159317017\n",
            "Epoch 37/100 \tTraining Loss: 0.29664674401283264\n",
            "Training Accuracy: 97.51773071289062%\n",
            "Validation Accuracy: 25.059101104736328%\n",
            "Epoch 38/100 \tTraining Loss: 0.30417874455451965\n",
            "Epoch 38/100 \tTraining Loss: 0.2595699429512024\n",
            "Training Accuracy: 97.63593292236328%\n",
            "Validation Accuracy: 21.985815048217773%\n",
            "Epoch 39/100 \tTraining Loss: 0.29096582531929016\n",
            "Epoch 39/100 \tTraining Loss: 0.17671433091163635\n",
            "Training Accuracy: 98.34515380859375%\n",
            "Validation Accuracy: 25.53191566467285%\n",
            "Epoch 40/100 \tTraining Loss: 0.09232436865568161\n",
            "Epoch 40/100 \tTraining Loss: 0.28343260288238525\n",
            "Training Accuracy: 98.5224609375%\n",
            "Validation Accuracy: 28.84160804748535%\n",
            "Epoch 41/100 \tTraining Loss: 0.08794356137514114\n",
            "Epoch 41/100 \tTraining Loss: 0.5889965891838074\n",
            "Training Accuracy: 98.58155822753906%\n",
            "Validation Accuracy: 28.368793487548828%\n",
            "Epoch 42/100 \tTraining Loss: 0.09359165281057358\n",
            "Epoch 42/100 \tTraining Loss: 0.14482249319553375\n",
            "Training Accuracy: 98.8179702758789%\n",
            "Validation Accuracy: 24.586288452148438%\n",
            "Epoch 43/100 \tTraining Loss: 0.23771587014198303\n",
            "Epoch 43/100 \tTraining Loss: 0.065768763422966\n",
            "Training Accuracy: 98.87706756591797%\n",
            "Validation Accuracy: 22.695035934448242%\n",
            "Epoch 44/100 \tTraining Loss: 0.29136228561401367\n",
            "Epoch 44/100 \tTraining Loss: 0.26159560680389404\n",
            "Training Accuracy: 97.81324005126953%\n",
            "Validation Accuracy: 26.241134643554688%\n",
            "Epoch 45/100 \tTraining Loss: 0.20759566128253937\n",
            "Epoch 45/100 \tTraining Loss: 0.18601064383983612\n",
            "Training Accuracy: 97.63593292236328%\n",
            "Validation Accuracy: 22.931442260742188%\n",
            "Epoch 46/100 \tTraining Loss: 0.3326658010482788\n",
            "Epoch 46/100 \tTraining Loss: 0.3708129823207855\n",
            "Training Accuracy: 98.4633560180664%\n",
            "Validation Accuracy: 25.768321990966797%\n",
            "Epoch 47/100 \tTraining Loss: 0.17088589072227478\n",
            "Epoch 47/100 \tTraining Loss: 0.16380316019058228\n",
            "Training Accuracy: 99.34988403320312%\n",
            "Validation Accuracy: 26.477540969848633%\n",
            "Epoch 48/100 \tTraining Loss: 0.048058994114398956\n",
            "Epoch 48/100 \tTraining Loss: 0.13985541462898254\n",
            "Training Accuracy: 99.11347198486328%\n",
            "Validation Accuracy: 24.349882125854492%\n",
            "Epoch 49/100 \tTraining Loss: 0.043939512223005295\n",
            "Epoch 49/100 \tTraining Loss: 0.04118605703115463\n",
            "Training Accuracy: 99.46808624267578%\n",
            "Validation Accuracy: 26.713947296142578%\n",
            "Epoch 50/100 \tTraining Loss: 0.12393370270729065\n",
            "Epoch 50/100 \tTraining Loss: 0.19161689281463623\n",
            "Training Accuracy: 99.46808624267578%\n",
            "Validation Accuracy: 29.550827026367188%\n",
            "Epoch 51/100 \tTraining Loss: 0.13756245374679565\n",
            "Epoch 51/100 \tTraining Loss: 0.01905520260334015\n",
            "Training Accuracy: 99.17257690429688%\n",
            "Validation Accuracy: 26.713947296142578%\n",
            "Epoch 52/100 \tTraining Loss: 0.23990096151828766\n",
            "Epoch 52/100 \tTraining Loss: 0.09871383011341095\n",
            "Training Accuracy: 99.34988403320312%\n",
            "Validation Accuracy: 26.713947296142578%\n",
            "Epoch 53/100 \tTraining Loss: 0.03791452571749687\n",
            "Epoch 53/100 \tTraining Loss: 0.03733129799365997\n",
            "Training Accuracy: 99.82269287109375%\n",
            "Validation Accuracy: 24.113475799560547%\n",
            "Epoch 54/100 \tTraining Loss: 0.07175133377313614\n",
            "Epoch 54/100 \tTraining Loss: 0.12230397760868073\n",
            "Training Accuracy: 99.29077911376953%\n",
            "Validation Accuracy: 26.004728317260742%\n",
            "Epoch 55/100 \tTraining Loss: 0.17441366612911224\n",
            "Epoch 55/100 \tTraining Loss: 0.4386094808578491\n",
            "Training Accuracy: 99.11347198486328%\n",
            "Validation Accuracy: 25.768321990966797%\n",
            "Epoch 56/100 \tTraining Loss: 0.04251161590218544\n",
            "Epoch 56/100 \tTraining Loss: 0.14320644736289978\n",
            "Training Accuracy: 99.23168182373047%\n",
            "Validation Accuracy: 22.931442260742188%\n",
            "Epoch 57/100 \tTraining Loss: 0.15134558081626892\n",
            "Epoch 57/100 \tTraining Loss: 0.14063511788845062\n",
            "Training Accuracy: 99.76359558105469%\n",
            "Validation Accuracy: 28.132387161254883%\n",
            "Epoch 58/100 \tTraining Loss: 0.08279133588075638\n",
            "Epoch 58/100 \tTraining Loss: 0.197109654545784\n",
            "Training Accuracy: 99.64539337158203%\n",
            "Validation Accuracy: 28.132387161254883%\n",
            "Epoch 59/100 \tTraining Loss: 0.07154938578605652\n",
            "Epoch 59/100 \tTraining Loss: 0.24826814234256744\n",
            "Training Accuracy: 99.11347198486328%\n",
            "Validation Accuracy: 26.241134643554688%\n",
            "Epoch 60/100 \tTraining Loss: 0.010283210314810276\n",
            "Epoch 60/100 \tTraining Loss: 0.22594678401947021\n",
            "Training Accuracy: 99.7044906616211%\n",
            "Validation Accuracy: 25.059101104736328%\n",
            "Epoch 61/100 \tTraining Loss: 0.4131852984428406\n",
            "Epoch 61/100 \tTraining Loss: 0.2338959127664566\n",
            "Training Accuracy: 99.46808624267578%\n",
            "Validation Accuracy: 24.822694778442383%\n",
            "Epoch 62/100 \tTraining Loss: 0.1593605875968933\n",
            "Epoch 62/100 \tTraining Loss: 0.16284087300300598\n",
            "Training Accuracy: 99.58628845214844%\n",
            "Validation Accuracy: 24.113475799560547%\n",
            "Epoch 63/100 \tTraining Loss: 0.037901319563388824\n",
            "Epoch 63/100 \tTraining Loss: 0.16370566189289093\n",
            "Training Accuracy: 99.76359558105469%\n",
            "Validation Accuracy: 27.423168182373047%\n",
            "Epoch 64/100 \tTraining Loss: 0.07952171564102173\n",
            "Epoch 64/100 \tTraining Loss: 0.11083017289638519\n",
            "Training Accuracy: 100.0%\n",
            "Validation Accuracy: 24.113475799560547%\n",
            "Epoch 65/100 \tTraining Loss: 0.04907994717359543\n",
            "Epoch 65/100 \tTraining Loss: 0.0360739529132843\n",
            "Training Accuracy: 99.88179779052734%\n",
            "Validation Accuracy: 24.349882125854492%\n",
            "Epoch 66/100 \tTraining Loss: 0.014235826209187508\n",
            "Epoch 66/100 \tTraining Loss: 0.00875946506857872\n",
            "Training Accuracy: 99.64539337158203%\n",
            "Validation Accuracy: 23.167848587036133%\n",
            "Epoch 67/100 \tTraining Loss: 0.07826010137796402\n",
            "Epoch 67/100 \tTraining Loss: 0.09438584744930267\n",
            "Training Accuracy: 99.9408950805664%\n",
            "Validation Accuracy: 24.822694778442383%\n",
            "Epoch 68/100 \tTraining Loss: 0.042166948318481445\n",
            "Epoch 68/100 \tTraining Loss: 0.08783243596553802\n",
            "Training Accuracy: 100.0%\n",
            "Validation Accuracy: 26.241134643554688%\n",
            "Epoch 69/100 \tTraining Loss: 0.0670032724738121\n",
            "Epoch 69/100 \tTraining Loss: 0.09356395900249481\n",
            "Training Accuracy: 98.87706756591797%\n",
            "Validation Accuracy: 24.822694778442383%\n",
            "Epoch 70/100 \tTraining Loss: 0.12358269840478897\n",
            "Epoch 70/100 \tTraining Loss: 0.14574499428272247\n",
            "Training Accuracy: 99.64539337158203%\n",
            "Validation Accuracy: 28.84160804748535%\n",
            "Epoch 71/100 \tTraining Loss: 0.01385420374572277\n",
            "Epoch 71/100 \tTraining Loss: 0.05553213506937027\n",
            "Training Accuracy: 99.7044906616211%\n",
            "Validation Accuracy: 25.295507431030273%\n",
            "Epoch 72/100 \tTraining Loss: 0.11912547796964645\n",
            "Epoch 72/100 \tTraining Loss: 0.0323961079120636\n",
            "Training Accuracy: 99.82269287109375%\n",
            "Validation Accuracy: 24.822694778442383%\n",
            "Epoch 73/100 \tTraining Loss: 0.06467591226100922\n",
            "Epoch 73/100 \tTraining Loss: 0.0494086891412735\n",
            "Training Accuracy: 99.76359558105469%\n",
            "Validation Accuracy: 26.477540969848633%\n",
            "Epoch 74/100 \tTraining Loss: 0.14044350385665894\n",
            "Epoch 74/100 \tTraining Loss: 0.14472299814224243\n",
            "Training Accuracy: 99.29077911376953%\n",
            "Validation Accuracy: 26.713947296142578%\n",
            "Epoch 75/100 \tTraining Loss: 0.0672023594379425\n",
            "Epoch 75/100 \tTraining Loss: 0.1675427109003067\n",
            "Training Accuracy: 99.64539337158203%\n",
            "Validation Accuracy: 24.822694778442383%\n",
            "Epoch 76/100 \tTraining Loss: 0.0635729432106018\n",
            "Epoch 76/100 \tTraining Loss: 0.0571233294904232\n",
            "Training Accuracy: 99.64539337158203%\n",
            "Validation Accuracy: 26.004728317260742%\n",
            "Epoch 77/100 \tTraining Loss: 0.043167874217033386\n",
            "Epoch 77/100 \tTraining Loss: 0.015788700431585312\n",
            "Training Accuracy: 99.7044906616211%\n",
            "Validation Accuracy: 21.985815048217773%\n",
            "Epoch 78/100 \tTraining Loss: 0.042328089475631714\n",
            "Epoch 78/100 \tTraining Loss: 0.06638860702514648\n",
            "Training Accuracy: 99.76359558105469%\n",
            "Validation Accuracy: 24.822694778442383%\n",
            "Epoch 79/100 \tTraining Loss: 0.08328057080507278\n",
            "Epoch 79/100 \tTraining Loss: 0.1446712762117386\n",
            "Training Accuracy: 99.76359558105469%\n",
            "Validation Accuracy: 26.477540969848633%\n",
            "Epoch 80/100 \tTraining Loss: 0.07775799930095673\n",
            "Epoch 80/100 \tTraining Loss: 0.08878552168607712\n",
            "Training Accuracy: 99.76359558105469%\n",
            "Validation Accuracy: 22.931442260742188%\n",
            "Epoch 81/100 \tTraining Loss: 0.012952690944075584\n",
            "Epoch 81/100 \tTraining Loss: 0.023242540657520294\n",
            "Training Accuracy: 100.0%\n",
            "Validation Accuracy: 27.423168182373047%\n",
            "Epoch 82/100 \tTraining Loss: 0.04615546762943268\n",
            "Epoch 82/100 \tTraining Loss: 0.03594912961125374\n",
            "Training Accuracy: 99.76359558105469%\n",
            "Validation Accuracy: 25.768321990966797%\n",
            "Epoch 83/100 \tTraining Loss: 0.12578554451465607\n",
            "Epoch 83/100 \tTraining Loss: 0.0931965708732605\n",
            "Training Accuracy: 99.40898132324219%\n",
            "Validation Accuracy: 23.8770694732666%\n",
            "Epoch 84/100 \tTraining Loss: 0.11119738966226578\n",
            "Epoch 84/100 \tTraining Loss: 0.32753655314445496\n",
            "Training Accuracy: 99.34988403320312%\n",
            "Validation Accuracy: 25.059101104736328%\n",
            "Epoch 85/100 \tTraining Loss: 0.0953793078660965\n",
            "Epoch 85/100 \tTraining Loss: 0.04103240370750427\n",
            "Training Accuracy: 99.82269287109375%\n",
            "Validation Accuracy: 25.53191566467285%\n",
            "Epoch 86/100 \tTraining Loss: 0.03237795829772949\n",
            "Epoch 86/100 \tTraining Loss: 0.0573996901512146\n",
            "Training Accuracy: 99.76359558105469%\n",
            "Validation Accuracy: 27.423168182373047%\n",
            "Epoch 87/100 \tTraining Loss: 0.18845780193805695\n",
            "Epoch 87/100 \tTraining Loss: 0.21947792172431946\n",
            "Training Accuracy: 99.40898132324219%\n",
            "Validation Accuracy: 26.477540969848633%\n",
            "Epoch 88/100 \tTraining Loss: 0.031690098345279694\n",
            "Epoch 88/100 \tTraining Loss: 0.019146597012877464\n",
            "Training Accuracy: 99.9408950805664%\n",
            "Validation Accuracy: 27.423168182373047%\n",
            "Epoch 89/100 \tTraining Loss: 0.08704917132854462\n",
            "Epoch 89/100 \tTraining Loss: 0.0585930310189724\n",
            "Training Accuracy: 99.82269287109375%\n",
            "Validation Accuracy: 26.713947296142578%\n",
            "Epoch 90/100 \tTraining Loss: 0.07757546007633209\n",
            "Epoch 90/100 \tTraining Loss: 0.1594882309436798\n",
            "Training Accuracy: 100.0%\n",
            "Validation Accuracy: 26.241134643554688%\n",
            "Epoch 91/100 \tTraining Loss: 0.025746818631887436\n",
            "Epoch 91/100 \tTraining Loss: 0.04253871366381645\n",
            "Training Accuracy: 99.76359558105469%\n",
            "Validation Accuracy: 27.1867618560791%\n",
            "Epoch 92/100 \tTraining Loss: 0.07423438876867294\n",
            "Epoch 92/100 \tTraining Loss: 0.11204860359430313\n",
            "Training Accuracy: 99.58628845214844%\n",
            "Validation Accuracy: 24.586288452148438%\n",
            "Epoch 93/100 \tTraining Loss: 0.1846057027578354\n",
            "Epoch 93/100 \tTraining Loss: 0.27897346019744873\n",
            "Training Accuracy: 99.52718353271484%\n",
            "Validation Accuracy: 27.1867618560791%\n",
            "Epoch 94/100 \tTraining Loss: 0.07109171897172928\n",
            "Epoch 94/100 \tTraining Loss: 0.09939258545637131\n",
            "Training Accuracy: 99.76359558105469%\n",
            "Validation Accuracy: 25.295507431030273%\n",
            "Epoch 95/100 \tTraining Loss: 0.03185641020536423\n",
            "Epoch 95/100 \tTraining Loss: 0.10329531878232956\n",
            "Training Accuracy: 99.88179779052734%\n",
            "Validation Accuracy: 22.458629608154297%\n",
            "Epoch 96/100 \tTraining Loss: 0.025028936564922333\n",
            "Epoch 96/100 \tTraining Loss: 0.023748794570565224\n",
            "Training Accuracy: 99.88179779052734%\n",
            "Validation Accuracy: 23.8770694732666%\n",
            "Epoch 97/100 \tTraining Loss: 0.020742543041706085\n",
            "Epoch 97/100 \tTraining Loss: 0.019498854875564575\n",
            "Training Accuracy: 99.82269287109375%\n",
            "Validation Accuracy: 25.059101104736328%\n",
            "Epoch 98/100 \tTraining Loss: 0.13749943673610687\n",
            "Epoch 98/100 \tTraining Loss: 0.013866996392607689\n",
            "Training Accuracy: 99.82269287109375%\n",
            "Validation Accuracy: 25.295507431030273%\n",
            "Epoch 99/100 \tTraining Loss: 0.06770820170640945\n",
            "Epoch 99/100 \tTraining Loss: 0.027511680498719215\n",
            "Training Accuracy: 99.52718353271484%\n",
            "Validation Accuracy: 27.895980834960938%\n",
            "Epoch 100/100 \tTraining Loss: 0.015586850233376026\n",
            "Epoch 100/100 \tTraining Loss: 0.025840992107987404\n",
            "Training Accuracy: 99.82269287109375%\n",
            "Validation Accuracy: 27.423168182373047%\n"
          ]
        }
      ],
      "source": [
        "train_accs, val_accs = train_and_predict(model=lstm1, optimizer=Adam_optimizer, criterion=CELoss_criterion, num_epochs=100, \n",
        "                                         train_dataloader=train_dataloader, val_dataloader=val_dataloader)"
      ]
    },
    {
      "cell_type": "code",
      "source": [
        "train_accs_1, val_accs_1 = train_and_predict(model=lstm1, optimizer=Adam_optimizer, criterion=CELoss_criterion, num_epochs=100, \n",
        "                                             train_dataloader=s1_train_dataloader, val_dataloader=s1_val_dataloader)"
      ],
      "metadata": {
        "colab": {
          "base_uri": "https://localhost:8080/"
        },
        "id": "2cXH8ZcVzxiL",
        "outputId": "6e2b511b-7f80-49a7-b565-d84ae21e938e"
      },
      "execution_count": null,
      "outputs": [
        {
          "output_type": "stream",
          "name": "stdout",
          "text": [
            "Epoch 1/100 \tTraining Loss: 0.6027045249938965\n",
            "Training Accuracy: 87.76595306396484%\n",
            "Validation Accuracy: 77.08333587646484%\n",
            "Epoch 2/100 \tTraining Loss: 1.0375028848648071\n",
            "Training Accuracy: 92.55319213867188%\n",
            "Validation Accuracy: 77.08333587646484%\n",
            "Epoch 3/100 \tTraining Loss: 0.3647008240222931\n",
            "Training Accuracy: 94.68084716796875%\n",
            "Validation Accuracy: 79.16667175292969%\n",
            "Epoch 4/100 \tTraining Loss: 0.3781101405620575\n",
            "Training Accuracy: 96.80850982666016%\n",
            "Validation Accuracy: 79.16667175292969%\n",
            "Epoch 5/100 \tTraining Loss: 0.1303621381521225\n",
            "Training Accuracy: 98.93616485595703%\n",
            "Validation Accuracy: 77.08333587646484%\n",
            "Epoch 6/100 \tTraining Loss: 0.07887998968362808\n",
            "Training Accuracy: 99.46807861328125%\n",
            "Validation Accuracy: 77.08333587646484%\n",
            "Epoch 7/100 \tTraining Loss: 0.06883543729782104\n",
            "Training Accuracy: 100.0%\n",
            "Validation Accuracy: 75.0%\n",
            "Epoch 8/100 \tTraining Loss: 0.04010356217622757\n",
            "Training Accuracy: 100.0%\n",
            "Validation Accuracy: 77.08333587646484%\n",
            "Epoch 9/100 \tTraining Loss: 0.0716395229101181\n",
            "Training Accuracy: 100.0%\n",
            "Validation Accuracy: 77.08333587646484%\n",
            "Epoch 10/100 \tTraining Loss: 0.02539931796491146\n",
            "Training Accuracy: 100.0%\n",
            "Validation Accuracy: 77.08333587646484%\n",
            "Epoch 11/100 \tTraining Loss: 0.07707084715366364\n",
            "Training Accuracy: 100.0%\n",
            "Validation Accuracy: 79.16667175292969%\n",
            "Epoch 12/100 \tTraining Loss: 0.037856485694646835\n",
            "Training Accuracy: 100.0%\n",
            "Validation Accuracy: 72.91667175292969%\n",
            "Epoch 13/100 \tTraining Loss: 0.05122627317905426\n",
            "Training Accuracy: 100.0%\n",
            "Validation Accuracy: 77.08333587646484%\n",
            "Epoch 14/100 \tTraining Loss: 0.030496055260300636\n",
            "Training Accuracy: 100.0%\n",
            "Validation Accuracy: 77.08333587646484%\n",
            "Epoch 15/100 \tTraining Loss: 0.010770606808364391\n",
            "Training Accuracy: 100.0%\n",
            "Validation Accuracy: 79.16667175292969%\n",
            "Epoch 16/100 \tTraining Loss: 0.048328083008527756\n",
            "Training Accuracy: 100.0%\n",
            "Validation Accuracy: 75.0%\n",
            "Epoch 17/100 \tTraining Loss: 0.00964315328747034\n",
            "Training Accuracy: 100.0%\n",
            "Validation Accuracy: 77.08333587646484%\n",
            "Epoch 18/100 \tTraining Loss: 0.0073132943361997604\n",
            "Training Accuracy: 100.0%\n",
            "Validation Accuracy: 77.08333587646484%\n",
            "Epoch 19/100 \tTraining Loss: 0.02861277386546135\n",
            "Training Accuracy: 100.0%\n",
            "Validation Accuracy: 72.91667175292969%\n",
            "Epoch 20/100 \tTraining Loss: 0.003691286314278841\n",
            "Training Accuracy: 100.0%\n",
            "Validation Accuracy: 70.83333587646484%\n",
            "Epoch 21/100 \tTraining Loss: 0.00601410586386919\n",
            "Training Accuracy: 100.0%\n",
            "Validation Accuracy: 75.0%\n",
            "Epoch 22/100 \tTraining Loss: 0.013537123799324036\n",
            "Training Accuracy: 100.0%\n",
            "Validation Accuracy: 75.0%\n",
            "Epoch 23/100 \tTraining Loss: 0.14161431789398193\n",
            "Training Accuracy: 100.0%\n",
            "Validation Accuracy: 75.0%\n",
            "Epoch 24/100 \tTraining Loss: 0.004968448542058468\n",
            "Training Accuracy: 100.0%\n",
            "Validation Accuracy: 77.08333587646484%\n",
            "Epoch 25/100 \tTraining Loss: 0.0032576648518443108\n",
            "Training Accuracy: 100.0%\n",
            "Validation Accuracy: 75.0%\n",
            "Epoch 26/100 \tTraining Loss: 0.012119384482502937\n",
            "Training Accuracy: 100.0%\n",
            "Validation Accuracy: 72.91667175292969%\n",
            "Epoch 27/100 \tTraining Loss: 0.004986071493476629\n",
            "Training Accuracy: 100.0%\n",
            "Validation Accuracy: 72.91667175292969%\n",
            "Epoch 28/100 \tTraining Loss: 0.004197156522423029\n",
            "Training Accuracy: 100.0%\n",
            "Validation Accuracy: 72.91667175292969%\n",
            "Epoch 29/100 \tTraining Loss: 0.004845927935093641\n",
            "Training Accuracy: 100.0%\n",
            "Validation Accuracy: 72.91667175292969%\n",
            "Epoch 30/100 \tTraining Loss: 0.00818875152617693\n",
            "Training Accuracy: 100.0%\n",
            "Validation Accuracy: 75.0%\n",
            "Epoch 31/100 \tTraining Loss: 0.0140653932467103\n",
            "Training Accuracy: 100.0%\n",
            "Validation Accuracy: 75.0%\n",
            "Epoch 32/100 \tTraining Loss: 0.0036083590239286423\n",
            "Training Accuracy: 100.0%\n",
            "Validation Accuracy: 75.0%\n",
            "Epoch 33/100 \tTraining Loss: 0.04856155067682266\n",
            "Training Accuracy: 100.0%\n",
            "Validation Accuracy: 75.0%\n",
            "Epoch 34/100 \tTraining Loss: 0.0030296421609818935\n",
            "Training Accuracy: 100.0%\n",
            "Validation Accuracy: 75.0%\n",
            "Epoch 35/100 \tTraining Loss: 0.027535028755664825\n",
            "Training Accuracy: 100.0%\n",
            "Validation Accuracy: 75.0%\n",
            "Epoch 36/100 \tTraining Loss: 0.005728259216994047\n",
            "Training Accuracy: 100.0%\n",
            "Validation Accuracy: 75.0%\n",
            "Epoch 37/100 \tTraining Loss: 0.002972650807350874\n",
            "Training Accuracy: 100.0%\n",
            "Validation Accuracy: 75.0%\n",
            "Epoch 38/100 \tTraining Loss: 0.0038959113880991936\n",
            "Training Accuracy: 100.0%\n",
            "Validation Accuracy: 75.0%\n",
            "Epoch 39/100 \tTraining Loss: 0.0027321884408593178\n",
            "Training Accuracy: 100.0%\n",
            "Validation Accuracy: 75.0%\n",
            "Epoch 40/100 \tTraining Loss: 0.0016851498512551188\n",
            "Training Accuracy: 100.0%\n",
            "Validation Accuracy: 75.0%\n",
            "Epoch 41/100 \tTraining Loss: 0.0028223865665495396\n",
            "Training Accuracy: 100.0%\n",
            "Validation Accuracy: 75.0%\n",
            "Epoch 42/100 \tTraining Loss: 0.008843624033033848\n",
            "Training Accuracy: 100.0%\n",
            "Validation Accuracy: 75.0%\n",
            "Epoch 43/100 \tTraining Loss: 0.010403811931610107\n",
            "Training Accuracy: 100.0%\n",
            "Validation Accuracy: 75.0%\n",
            "Epoch 44/100 \tTraining Loss: 0.0035754689015448093\n",
            "Training Accuracy: 100.0%\n",
            "Validation Accuracy: 75.0%\n",
            "Epoch 45/100 \tTraining Loss: 0.004052653443068266\n",
            "Training Accuracy: 100.0%\n",
            "Validation Accuracy: 75.0%\n",
            "Epoch 46/100 \tTraining Loss: 0.005209805443882942\n",
            "Training Accuracy: 100.0%\n",
            "Validation Accuracy: 75.0%\n",
            "Epoch 47/100 \tTraining Loss: 0.005753205623477697\n",
            "Training Accuracy: 100.0%\n",
            "Validation Accuracy: 75.0%\n",
            "Epoch 48/100 \tTraining Loss: 0.0026931236498057842\n",
            "Training Accuracy: 100.0%\n",
            "Validation Accuracy: 75.0%\n",
            "Epoch 49/100 \tTraining Loss: 0.0033082892186939716\n",
            "Training Accuracy: 100.0%\n",
            "Validation Accuracy: 75.0%\n",
            "Epoch 50/100 \tTraining Loss: 0.006814942695200443\n",
            "Training Accuracy: 100.0%\n",
            "Validation Accuracy: 75.0%\n",
            "Epoch 51/100 \tTraining Loss: 0.008266418240964413\n",
            "Training Accuracy: 100.0%\n",
            "Validation Accuracy: 75.0%\n",
            "Epoch 52/100 \tTraining Loss: 0.005057448986917734\n",
            "Training Accuracy: 100.0%\n",
            "Validation Accuracy: 75.0%\n",
            "Epoch 53/100 \tTraining Loss: 0.004581932909786701\n",
            "Training Accuracy: 100.0%\n",
            "Validation Accuracy: 75.0%\n",
            "Epoch 54/100 \tTraining Loss: 0.0017760931514203548\n",
            "Training Accuracy: 100.0%\n",
            "Validation Accuracy: 75.0%\n",
            "Epoch 55/100 \tTraining Loss: 0.008382893167436123\n",
            "Training Accuracy: 100.0%\n",
            "Validation Accuracy: 75.0%\n",
            "Epoch 56/100 \tTraining Loss: 0.00885977502912283\n",
            "Training Accuracy: 100.0%\n",
            "Validation Accuracy: 75.0%\n",
            "Epoch 57/100 \tTraining Loss: 0.0014463512925431132\n",
            "Training Accuracy: 100.0%\n",
            "Validation Accuracy: 75.0%\n",
            "Epoch 58/100 \tTraining Loss: 0.007397966925054789\n",
            "Training Accuracy: 100.0%\n",
            "Validation Accuracy: 75.0%\n",
            "Epoch 59/100 \tTraining Loss: 0.0024686164688318968\n",
            "Training Accuracy: 100.0%\n",
            "Validation Accuracy: 75.0%\n",
            "Epoch 60/100 \tTraining Loss: 0.007073038257658482\n",
            "Training Accuracy: 100.0%\n",
            "Validation Accuracy: 75.0%\n",
            "Epoch 61/100 \tTraining Loss: 0.0019223360577598214\n",
            "Training Accuracy: 100.0%\n",
            "Validation Accuracy: 75.0%\n",
            "Epoch 62/100 \tTraining Loss: 0.0032841702923178673\n",
            "Training Accuracy: 100.0%\n",
            "Validation Accuracy: 75.0%\n",
            "Epoch 63/100 \tTraining Loss: 0.0013458936009556055\n",
            "Training Accuracy: 100.0%\n",
            "Validation Accuracy: 75.0%\n",
            "Epoch 64/100 \tTraining Loss: 0.0027586736250668764\n",
            "Training Accuracy: 100.0%\n",
            "Validation Accuracy: 75.0%\n",
            "Epoch 65/100 \tTraining Loss: 0.0022813885007053614\n",
            "Training Accuracy: 100.0%\n",
            "Validation Accuracy: 75.0%\n",
            "Epoch 66/100 \tTraining Loss: 0.00169941911008209\n",
            "Training Accuracy: 100.0%\n",
            "Validation Accuracy: 75.0%\n",
            "Epoch 67/100 \tTraining Loss: 0.0015952785033732653\n",
            "Training Accuracy: 100.0%\n",
            "Validation Accuracy: 75.0%\n",
            "Epoch 68/100 \tTraining Loss: 0.002950916765257716\n",
            "Training Accuracy: 100.0%\n",
            "Validation Accuracy: 75.0%\n",
            "Epoch 69/100 \tTraining Loss: 0.002741910982877016\n",
            "Training Accuracy: 100.0%\n",
            "Validation Accuracy: 75.0%\n",
            "Epoch 70/100 \tTraining Loss: 0.0026416187174618244\n",
            "Training Accuracy: 100.0%\n",
            "Validation Accuracy: 77.08333587646484%\n",
            "Epoch 71/100 \tTraining Loss: 0.0015743342228233814\n",
            "Training Accuracy: 100.0%\n",
            "Validation Accuracy: 79.16667175292969%\n",
            "Epoch 72/100 \tTraining Loss: 0.0023189608473330736\n",
            "Training Accuracy: 100.0%\n",
            "Validation Accuracy: 79.16667175292969%\n",
            "Epoch 73/100 \tTraining Loss: 0.0023580892011523247\n",
            "Training Accuracy: 100.0%\n",
            "Validation Accuracy: 77.08333587646484%\n",
            "Epoch 74/100 \tTraining Loss: 0.004327867180109024\n",
            "Training Accuracy: 100.0%\n",
            "Validation Accuracy: 79.16667175292969%\n",
            "Epoch 75/100 \tTraining Loss: 0.0014268832746893167\n",
            "Training Accuracy: 100.0%\n",
            "Validation Accuracy: 79.16667175292969%\n",
            "Epoch 76/100 \tTraining Loss: 0.001632784609682858\n",
            "Training Accuracy: 100.0%\n",
            "Validation Accuracy: 77.08333587646484%\n",
            "Epoch 77/100 \tTraining Loss: 0.0016532083973288536\n",
            "Training Accuracy: 100.0%\n",
            "Validation Accuracy: 77.08333587646484%\n",
            "Epoch 78/100 \tTraining Loss: 0.0013784189941361547\n",
            "Training Accuracy: 100.0%\n",
            "Validation Accuracy: 77.08333587646484%\n",
            "Epoch 79/100 \tTraining Loss: 0.005575326271355152\n",
            "Training Accuracy: 100.0%\n",
            "Validation Accuracy: 77.08333587646484%\n",
            "Epoch 80/100 \tTraining Loss: 0.006660587154328823\n",
            "Training Accuracy: 100.0%\n",
            "Validation Accuracy: 77.08333587646484%\n",
            "Epoch 81/100 \tTraining Loss: 0.0022290924098342657\n",
            "Training Accuracy: 100.0%\n",
            "Validation Accuracy: 77.08333587646484%\n",
            "Epoch 82/100 \tTraining Loss: 0.0020626396872103214\n",
            "Training Accuracy: 100.0%\n",
            "Validation Accuracy: 77.08333587646484%\n",
            "Epoch 83/100 \tTraining Loss: 0.0022340959403663874\n",
            "Training Accuracy: 100.0%\n",
            "Validation Accuracy: 75.0%\n",
            "Epoch 84/100 \tTraining Loss: 0.0012696435442194343\n",
            "Training Accuracy: 100.0%\n",
            "Validation Accuracy: 75.0%\n",
            "Epoch 85/100 \tTraining Loss: 0.0014924543211236596\n",
            "Training Accuracy: 100.0%\n",
            "Validation Accuracy: 77.08333587646484%\n",
            "Epoch 86/100 \tTraining Loss: 0.014351657591760159\n",
            "Training Accuracy: 100.0%\n",
            "Validation Accuracy: 77.08333587646484%\n",
            "Epoch 87/100 \tTraining Loss: 0.0015043406747281551\n",
            "Training Accuracy: 100.0%\n",
            "Validation Accuracy: 75.0%\n",
            "Epoch 88/100 \tTraining Loss: 0.002643599873408675\n",
            "Training Accuracy: 100.0%\n",
            "Validation Accuracy: 75.0%\n",
            "Epoch 89/100 \tTraining Loss: 0.0014709177194163203\n",
            "Training Accuracy: 100.0%\n",
            "Validation Accuracy: 75.0%\n",
            "Epoch 90/100 \tTraining Loss: 0.00195256934966892\n",
            "Training Accuracy: 100.0%\n",
            "Validation Accuracy: 75.0%\n",
            "Epoch 91/100 \tTraining Loss: 0.0056874738074839115\n",
            "Training Accuracy: 100.0%\n",
            "Validation Accuracy: 75.0%\n",
            "Epoch 92/100 \tTraining Loss: 0.009984788484871387\n",
            "Training Accuracy: 100.0%\n",
            "Validation Accuracy: 77.08333587646484%\n",
            "Epoch 93/100 \tTraining Loss: 0.0045692650601267815\n",
            "Training Accuracy: 100.0%\n",
            "Validation Accuracy: 75.0%\n",
            "Epoch 94/100 \tTraining Loss: 0.00299664493650198\n",
            "Training Accuracy: 100.0%\n",
            "Validation Accuracy: 75.0%\n",
            "Epoch 95/100 \tTraining Loss: 0.0013086999533697963\n",
            "Training Accuracy: 100.0%\n",
            "Validation Accuracy: 75.0%\n",
            "Epoch 96/100 \tTraining Loss: 0.0010126008419319987\n",
            "Training Accuracy: 100.0%\n",
            "Validation Accuracy: 75.0%\n",
            "Epoch 97/100 \tTraining Loss: 0.00153206882532686\n",
            "Training Accuracy: 100.0%\n",
            "Validation Accuracy: 75.0%\n",
            "Epoch 98/100 \tTraining Loss: 0.0013731383951380849\n",
            "Training Accuracy: 100.0%\n",
            "Validation Accuracy: 75.0%\n",
            "Epoch 99/100 \tTraining Loss: 0.0033744575921446085\n",
            "Training Accuracy: 100.0%\n",
            "Validation Accuracy: 77.08333587646484%\n",
            "Epoch 100/100 \tTraining Loss: 0.004502487368881702\n",
            "Training Accuracy: 100.0%\n",
            "Validation Accuracy: 75.0%\n"
          ]
        }
      ]
    },
    {
      "cell_type": "code",
      "source": [
        "print('Highest Training Accuracy: {}%'.format(max(train_accs)))\n",
        "print('Highest Validation Accuracy: {}%'.format(max(val_accs)))"
      ],
      "metadata": {
        "colab": {
          "base_uri": "https://localhost:8080/"
        },
        "id": "BmTcK6qeOG_2",
        "outputId": "d45de0fe-e921-421c-c6e6-9e594db55e6c"
      },
      "execution_count": null,
      "outputs": [
        {
          "output_type": "stream",
          "name": "stdout",
          "text": [
            "Highest Training Accuracy: 100.0%\n",
            "Highest Validation Accuracy: 30.260047912597656%\n"
          ]
        }
      ]
    },
    {
      "cell_type": "code",
      "source": [
        "test_acc, __ = predict(model=lstm1, dataloader=test_dataloader, mode='Test')"
      ],
      "metadata": {
        "colab": {
          "base_uri": "https://localhost:8080/"
        },
        "id": "sr5lrXbK2erD",
        "outputId": "fda08cee-a304-4b56-d45a-c03dcced80b1"
      },
      "execution_count": null,
      "outputs": [
        {
          "output_type": "stream",
          "name": "stdout",
          "text": [
            "Test Accuracy: 27.313770294189453%\n"
          ]
        }
      ]
    },
    {
      "cell_type": "code",
      "source": [
        "print('Subject 1 Highest Training Accuracy: {}%'.format(max(train_accs_1)))\n",
        "print('Subject 1 Highest Validation Accuracy: {}%'.format(max(val_accs_1)))"
      ],
      "metadata": {
        "colab": {
          "base_uri": "https://localhost:8080/"
        },
        "id": "pzypcyVB0c-9",
        "outputId": "a1a5377b-62e3-411e-a329-c5e8fb2aee8c"
      },
      "execution_count": null,
      "outputs": [
        {
          "output_type": "stream",
          "name": "stdout",
          "text": [
            "Subject 1 Highest Training Accuracy: 100.0%\n",
            "Subject 1 Highest Validation Accuracy: 79.16667175292969%\n"
          ]
        }
      ]
    },
    {
      "cell_type": "code",
      "source": [
        "test_acc_1, __ = predict(model=lstm1, dataloader=s1_test_dataloader, mode='Test')"
      ],
      "metadata": {
        "colab": {
          "base_uri": "https://localhost:8080/"
        },
        "id": "dLlmkmOa0nRr",
        "outputId": "77c81f2e-f9cb-429b-866a-53da11f68683"
      },
      "execution_count": null,
      "outputs": [
        {
          "output_type": "stream",
          "name": "stdout",
          "text": [
            "Test Accuracy: 20.0%\n"
          ]
        }
      ]
    },
    {
      "cell_type": "code",
      "source": [
        "train_accs_np = [int(i) for i in train_accs]\n",
        "val_accs_np = [int(i) for i in val_accs]"
      ],
      "metadata": {
        "id": "XGIgKvD5TctM"
      },
      "execution_count": null,
      "outputs": []
    },
    {
      "cell_type": "code",
      "source": [
        "import matplotlib.pyplot as plt\n",
        "\n",
        "fig, ax = plt.subplots(figsize=(8, 6), dpi=100)\n",
        "ax.plot(range(100), train_accs_np, c='tab:blue', label='Training Accuracy')\n",
        "ax.plot(range(100), val_accs_np, c='tab:orange', label='Validation Accuracy')\n",
        "ax.axhline(y=int(test_acc), color='tab:red', linestyle='dotted')\n",
        "ax.set_xlabel('Epoch', fontsize='10')\n",
        "ax.set_ylabel('Accuracy', fontsize='10')\n",
        "ax.set_title('Training and Validation Accuracy', fontsize='17')\n",
        "ax.grid()\n",
        "ax.legend(fontsize='15')\n",
        "plt.show()"
      ],
      "metadata": {
        "id": "52CxcfCMFjxT",
        "colab": {
          "base_uri": "https://localhost:8080/",
          "height": 560
        },
        "outputId": "146af88b-1851-40d4-b201-afa9dd966670"
      },
      "execution_count": null,
      "outputs": [
        {
          "output_type": "display_data",
          "data": {
            "text/plain": [
              "<Figure size 800x600 with 1 Axes>"
            ],
            "image/png": "[encoded data removed]"
          },
          "metadata": {
            "needs_background": "light"
          }
        }
      ]
    },
    {
      "cell_type": "code",
      "source": [],
      "metadata": {
        "id": "rZ3HWoTR9yeU"
      },
      "execution_count": null,
      "outputs": []
    }
  ]
}